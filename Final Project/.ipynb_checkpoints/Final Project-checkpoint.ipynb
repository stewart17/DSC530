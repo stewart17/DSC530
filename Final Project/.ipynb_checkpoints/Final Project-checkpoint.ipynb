{
 "cells": [
  {
   "cell_type": "markdown",
   "id": "61113453",
   "metadata": {},
   "source": [
    "# Final Project: Does a Higher Population Lead to Higher Emissions"
   ]
  },
  {
   "cell_type": "markdown",
   "id": "ef77f185",
   "metadata": {},
   "source": [
    "## Variables\n",
    "- GDP - Countries GDP at purchasing power parities, measured (Billion 2015\\\\$ PPP)\n",
    "- Population - Population of specific Country, measured (Mperson)\n",
    "- CO2_emission - The amount of C02 emitted, measured (MMtonnes CO2)\n",
    "- Energyintensityby_GDP- Energy intensity is a measure of the energy inefficiency of an economy. It is calculated as units of energy per unit of GDP, measred (1000 Btu/2015\\\\$ GDP PPP)\n",
    "- Energyintensityper_capita - Energy intensity is a measure of the energy inefficiency of an economy. It is calculated as units of energy per unit of capita (capita = individual person), measured (MMBtu/person)\n",
    "- Energy_consumption - Amount of Consumption for the specific energy source, measured (quad Btu)\n",
    "- Energy_production - Amount of Production for the specific energy source, measured (quad Btu)"
   ]
  },
  {
   "cell_type": "code",
   "execution_count": 298,
   "id": "2e57f69b",
   "metadata": {},
   "outputs": [],
   "source": [
    "import pandas as pd\n",
    "import scipy\n",
    "from matplotlib import pyplot  as plt\n",
    "import numpy as np\n",
    "import empiricaldist as ed\n",
    "import math"
   ]
  },
  {
   "cell_type": "code",
   "execution_count": 272,
   "id": "6f1e636a",
   "metadata": {},
   "outputs": [],
   "source": [
    "# places emissions into data frameji\n",
    "emissions_df = pandas.read_csv(r\"energy.csv\" )"
   ]
  },
  {
   "cell_type": "markdown",
   "id": "60e132ca",
   "metadata": {},
   "source": [
    "# Things I Want to Do to This Data\n",
    "1. Create new data frames with only highest emitting \n",
    "2. Sort by population\n",
    "3. Sort by GDP\n",
    "4. Sort by per capita\n",
    "5. See impact of renewables in countries that use them"
   ]
  },
  {
   "cell_type": "code",
   "execution_count": 273,
   "id": "da625bfb",
   "metadata": {
    "scrolled": true
   },
   "outputs": [
    {
     "data": {
      "text/html": [
       "<div>\n",
       "<style scoped>\n",
       "    .dataframe tbody tr th:only-of-type {\n",
       "        vertical-align: middle;\n",
       "    }\n",
       "\n",
       "    .dataframe tbody tr th {\n",
       "        vertical-align: top;\n",
       "    }\n",
       "\n",
       "    .dataframe thead th {\n",
       "        text-align: right;\n",
       "    }\n",
       "</style>\n",
       "<table border=\"1\" class=\"dataframe\">\n",
       "  <thead>\n",
       "    <tr style=\"text-align: right;\">\n",
       "      <th></th>\n",
       "      <th>Unnamed: 0</th>\n",
       "      <th>Country</th>\n",
       "      <th>Energy_type</th>\n",
       "      <th>Year</th>\n",
       "      <th>Energy_consumption</th>\n",
       "      <th>Energy_production</th>\n",
       "      <th>GDP</th>\n",
       "      <th>Population</th>\n",
       "      <th>Energy_intensity_per_capita</th>\n",
       "      <th>Energy_intensity_by_GDP</th>\n",
       "      <th>CO2_emission</th>\n",
       "    </tr>\n",
       "  </thead>\n",
       "  <tbody>\n",
       "    <tr>\n",
       "      <th>0</th>\n",
       "      <td>0</td>\n",
       "      <td>World</td>\n",
       "      <td>all_energy_types</td>\n",
       "      <td>1980</td>\n",
       "      <td>292.899790</td>\n",
       "      <td>296.337228</td>\n",
       "      <td>27770.910281</td>\n",
       "      <td>4.298127e+06</td>\n",
       "      <td>68.145921</td>\n",
       "      <td>10.547000</td>\n",
       "      <td>4946.627130</td>\n",
       "    </tr>\n",
       "    <tr>\n",
       "      <th>1</th>\n",
       "      <td>1</td>\n",
       "      <td>World</td>\n",
       "      <td>coal</td>\n",
       "      <td>1980</td>\n",
       "      <td>78.656134</td>\n",
       "      <td>80.114194</td>\n",
       "      <td>27770.910281</td>\n",
       "      <td>4.298127e+06</td>\n",
       "      <td>68.145921</td>\n",
       "      <td>10.547000</td>\n",
       "      <td>1409.790188</td>\n",
       "    </tr>\n",
       "    <tr>\n",
       "      <th>2</th>\n",
       "      <td>2</td>\n",
       "      <td>World</td>\n",
       "      <td>natural_gas</td>\n",
       "      <td>1980</td>\n",
       "      <td>53.865223</td>\n",
       "      <td>54.761046</td>\n",
       "      <td>27770.910281</td>\n",
       "      <td>4.298127e+06</td>\n",
       "      <td>68.145921</td>\n",
       "      <td>10.547000</td>\n",
       "      <td>1081.593377</td>\n",
       "    </tr>\n",
       "    <tr>\n",
       "      <th>3</th>\n",
       "      <td>3</td>\n",
       "      <td>World</td>\n",
       "      <td>petroleum_n_other_liquids</td>\n",
       "      <td>1980</td>\n",
       "      <td>132.064019</td>\n",
       "      <td>133.111109</td>\n",
       "      <td>27770.910281</td>\n",
       "      <td>4.298127e+06</td>\n",
       "      <td>68.145921</td>\n",
       "      <td>10.547000</td>\n",
       "      <td>2455.243565</td>\n",
       "    </tr>\n",
       "    <tr>\n",
       "      <th>4</th>\n",
       "      <td>4</td>\n",
       "      <td>World</td>\n",
       "      <td>nuclear</td>\n",
       "      <td>1980</td>\n",
       "      <td>7.575700</td>\n",
       "      <td>7.575700</td>\n",
       "      <td>27770.910281</td>\n",
       "      <td>4.298127e+06</td>\n",
       "      <td>68.145921</td>\n",
       "      <td>10.547000</td>\n",
       "      <td>0.000000</td>\n",
       "    </tr>\n",
       "    <tr>\n",
       "      <th>...</th>\n",
       "      <td>...</td>\n",
       "      <td>...</td>\n",
       "      <td>...</td>\n",
       "      <td>...</td>\n",
       "      <td>...</td>\n",
       "      <td>...</td>\n",
       "      <td>...</td>\n",
       "      <td>...</td>\n",
       "      <td>...</td>\n",
       "      <td>...</td>\n",
       "      <td>...</td>\n",
       "    </tr>\n",
       "    <tr>\n",
       "      <th>55435</th>\n",
       "      <td>55435</td>\n",
       "      <td>Zimbabwe</td>\n",
       "      <td>coal</td>\n",
       "      <td>2019</td>\n",
       "      <td>0.045064</td>\n",
       "      <td>0.075963</td>\n",
       "      <td>37.620400</td>\n",
       "      <td>1.465420e+04</td>\n",
       "      <td>11.508701</td>\n",
       "      <td>4.482962</td>\n",
       "      <td>4.586869</td>\n",
       "    </tr>\n",
       "    <tr>\n",
       "      <th>55436</th>\n",
       "      <td>55436</td>\n",
       "      <td>Zimbabwe</td>\n",
       "      <td>natural_gas</td>\n",
       "      <td>2019</td>\n",
       "      <td>0.000000</td>\n",
       "      <td>0.000000</td>\n",
       "      <td>37.620400</td>\n",
       "      <td>1.465420e+04</td>\n",
       "      <td>11.508701</td>\n",
       "      <td>4.482962</td>\n",
       "      <td>0.000000</td>\n",
       "    </tr>\n",
       "    <tr>\n",
       "      <th>55437</th>\n",
       "      <td>55437</td>\n",
       "      <td>Zimbabwe</td>\n",
       "      <td>petroleum_n_other_liquids</td>\n",
       "      <td>2019</td>\n",
       "      <td>0.055498</td>\n",
       "      <td>0.000000</td>\n",
       "      <td>37.620400</td>\n",
       "      <td>1.465420e+04</td>\n",
       "      <td>11.508701</td>\n",
       "      <td>4.482962</td>\n",
       "      <td>4.377890</td>\n",
       "    </tr>\n",
       "    <tr>\n",
       "      <th>55438</th>\n",
       "      <td>55438</td>\n",
       "      <td>Zimbabwe</td>\n",
       "      <td>nuclear</td>\n",
       "      <td>2019</td>\n",
       "      <td>NaN</td>\n",
       "      <td>NaN</td>\n",
       "      <td>37.620400</td>\n",
       "      <td>1.465420e+04</td>\n",
       "      <td>11.508701</td>\n",
       "      <td>4.482962</td>\n",
       "      <td>0.000000</td>\n",
       "    </tr>\n",
       "    <tr>\n",
       "      <th>55439</th>\n",
       "      <td>55439</td>\n",
       "      <td>Zimbabwe</td>\n",
       "      <td>renewables_n_other</td>\n",
       "      <td>2019</td>\n",
       "      <td>0.068089</td>\n",
       "      <td>0.067499</td>\n",
       "      <td>37.620400</td>\n",
       "      <td>1.465420e+04</td>\n",
       "      <td>11.508701</td>\n",
       "      <td>4.482962</td>\n",
       "      <td>0.000000</td>\n",
       "    </tr>\n",
       "  </tbody>\n",
       "</table>\n",
       "<p>55440 rows × 11 columns</p>\n",
       "</div>"
      ],
      "text/plain": [
       "       Unnamed: 0   Country                Energy_type  Year  \\\n",
       "0               0     World           all_energy_types  1980   \n",
       "1               1     World                       coal  1980   \n",
       "2               2     World                natural_gas  1980   \n",
       "3               3     World  petroleum_n_other_liquids  1980   \n",
       "4               4     World                    nuclear  1980   \n",
       "...           ...       ...                        ...   ...   \n",
       "55435       55435  Zimbabwe                       coal  2019   \n",
       "55436       55436  Zimbabwe                natural_gas  2019   \n",
       "55437       55437  Zimbabwe  petroleum_n_other_liquids  2019   \n",
       "55438       55438  Zimbabwe                    nuclear  2019   \n",
       "55439       55439  Zimbabwe         renewables_n_other  2019   \n",
       "\n",
       "       Energy_consumption  Energy_production           GDP    Population  \\\n",
       "0              292.899790         296.337228  27770.910281  4.298127e+06   \n",
       "1               78.656134          80.114194  27770.910281  4.298127e+06   \n",
       "2               53.865223          54.761046  27770.910281  4.298127e+06   \n",
       "3              132.064019         133.111109  27770.910281  4.298127e+06   \n",
       "4                7.575700           7.575700  27770.910281  4.298127e+06   \n",
       "...                   ...                ...           ...           ...   \n",
       "55435            0.045064           0.075963     37.620400  1.465420e+04   \n",
       "55436            0.000000           0.000000     37.620400  1.465420e+04   \n",
       "55437            0.055498           0.000000     37.620400  1.465420e+04   \n",
       "55438                 NaN                NaN     37.620400  1.465420e+04   \n",
       "55439            0.068089           0.067499     37.620400  1.465420e+04   \n",
       "\n",
       "       Energy_intensity_per_capita  Energy_intensity_by_GDP  CO2_emission  \n",
       "0                        68.145921                10.547000   4946.627130  \n",
       "1                        68.145921                10.547000   1409.790188  \n",
       "2                        68.145921                10.547000   1081.593377  \n",
       "3                        68.145921                10.547000   2455.243565  \n",
       "4                        68.145921                10.547000      0.000000  \n",
       "...                            ...                      ...           ...  \n",
       "55435                    11.508701                 4.482962      4.586869  \n",
       "55436                    11.508701                 4.482962      0.000000  \n",
       "55437                    11.508701                 4.482962      4.377890  \n",
       "55438                    11.508701                 4.482962      0.000000  \n",
       "55439                    11.508701                 4.482962      0.000000  \n",
       "\n",
       "[55440 rows x 11 columns]"
      ]
     },
     "execution_count": 273,
     "metadata": {},
     "output_type": "execute_result"
    }
   ],
   "source": [
    "emissions_df"
   ]
  },
  {
   "cell_type": "markdown",
   "id": "c0eb2961",
   "metadata": {},
   "source": [
    "## Histograms"
   ]
  },
  {
   "cell_type": "code",
   "execution_count": 274,
   "id": "48f420eb",
   "metadata": {},
   "outputs": [
    {
     "data": {
      "text/html": [
       "<div>\n",
       "<style scoped>\n",
       "    .dataframe tbody tr th:only-of-type {\n",
       "        vertical-align: middle;\n",
       "    }\n",
       "\n",
       "    .dataframe tbody tr th {\n",
       "        vertical-align: top;\n",
       "    }\n",
       "\n",
       "    .dataframe thead th {\n",
       "        text-align: right;\n",
       "    }\n",
       "</style>\n",
       "<table border=\"1\" class=\"dataframe\">\n",
       "  <thead>\n",
       "    <tr style=\"text-align: right;\">\n",
       "      <th></th>\n",
       "      <th>index</th>\n",
       "      <th>Unnamed: 0</th>\n",
       "      <th>Country</th>\n",
       "      <th>Energy_type</th>\n",
       "      <th>Year</th>\n",
       "      <th>Energy_consumption</th>\n",
       "      <th>Energy_production</th>\n",
       "      <th>GDP</th>\n",
       "      <th>Population</th>\n",
       "      <th>Energy_intensity_per_capita</th>\n",
       "      <th>Energy_intensity_by_GDP</th>\n",
       "      <th>CO2_emission</th>\n",
       "    </tr>\n",
       "  </thead>\n",
       "  <tbody>\n",
       "    <tr>\n",
       "      <th>0</th>\n",
       "      <td>54060</td>\n",
       "      <td>54060</td>\n",
       "      <td>Afghanistan</td>\n",
       "      <td>all_energy_types</td>\n",
       "      <td>2019</td>\n",
       "      <td>0.122748</td>\n",
       "      <td>0.055210</td>\n",
       "      <td>79.4546</td>\n",
       "      <td>38050.900</td>\n",
       "      <td>3.225901</td>\n",
       "      <td>1.544888</td>\n",
       "      <td>9.391163</td>\n",
       "    </tr>\n",
       "    <tr>\n",
       "      <th>1</th>\n",
       "      <td>54066</td>\n",
       "      <td>54066</td>\n",
       "      <td>Albania</td>\n",
       "      <td>all_energy_types</td>\n",
       "      <td>2019</td>\n",
       "      <td>0.110748</td>\n",
       "      <td>0.089082</td>\n",
       "      <td>38.2684</td>\n",
       "      <td>2879.920</td>\n",
       "      <td>38.455319</td>\n",
       "      <td>2.893987</td>\n",
       "      <td>4.031302</td>\n",
       "    </tr>\n",
       "    <tr>\n",
       "      <th>2</th>\n",
       "      <td>54072</td>\n",
       "      <td>54072</td>\n",
       "      <td>Algeria</td>\n",
       "      <td>all_energy_types</td>\n",
       "      <td>2019</td>\n",
       "      <td>2.643503</td>\n",
       "      <td>6.429790</td>\n",
       "      <td>509.0660</td>\n",
       "      <td>43030.400</td>\n",
       "      <td>61.433374</td>\n",
       "      <td>5.192849</td>\n",
       "      <td>145.987969</td>\n",
       "    </tr>\n",
       "    <tr>\n",
       "      <th>3</th>\n",
       "      <td>54078</td>\n",
       "      <td>54078</td>\n",
       "      <td>American Samoa</td>\n",
       "      <td>all_energy_types</td>\n",
       "      <td>2019</td>\n",
       "      <td>0.004912</td>\n",
       "      <td>0.000000</td>\n",
       "      <td>NaN</td>\n",
       "      <td>55.312</td>\n",
       "      <td>88.796444</td>\n",
       "      <td>0.000000</td>\n",
       "      <td>0.355428</td>\n",
       "    </tr>\n",
       "    <tr>\n",
       "      <th>4</th>\n",
       "      <td>54084</td>\n",
       "      <td>54084</td>\n",
       "      <td>Angola</td>\n",
       "      <td>all_energy_types</td>\n",
       "      <td>2019</td>\n",
       "      <td>0.372428</td>\n",
       "      <td>3.510208</td>\n",
       "      <td>193.8260</td>\n",
       "      <td>31849.800</td>\n",
       "      <td>11.693253</td>\n",
       "      <td>1.921454</td>\n",
       "      <td>17.644577</td>\n",
       "    </tr>\n",
       "    <tr>\n",
       "      <th>...</th>\n",
       "      <td>...</td>\n",
       "      <td>...</td>\n",
       "      <td>...</td>\n",
       "      <td>...</td>\n",
       "      <td>...</td>\n",
       "      <td>...</td>\n",
       "      <td>...</td>\n",
       "      <td>...</td>\n",
       "      <td>...</td>\n",
       "      <td>...</td>\n",
       "      <td>...</td>\n",
       "      <td>...</td>\n",
       "    </tr>\n",
       "    <tr>\n",
       "      <th>225</th>\n",
       "      <td>55410</td>\n",
       "      <td>55410</td>\n",
       "      <td>Wake Island</td>\n",
       "      <td>all_energy_types</td>\n",
       "      <td>2019</td>\n",
       "      <td>0.019436</td>\n",
       "      <td>0.000000</td>\n",
       "      <td>NaN</td>\n",
       "      <td>NaN</td>\n",
       "      <td>0.000000</td>\n",
       "      <td>0.000000</td>\n",
       "      <td>1.273787</td>\n",
       "    </tr>\n",
       "    <tr>\n",
       "      <th>226</th>\n",
       "      <td>55416</td>\n",
       "      <td>55416</td>\n",
       "      <td>Western Sahara</td>\n",
       "      <td>all_energy_types</td>\n",
       "      <td>2019</td>\n",
       "      <td>0.003712</td>\n",
       "      <td>0.000000</td>\n",
       "      <td>NaN</td>\n",
       "      <td>NaN</td>\n",
       "      <td>0.000000</td>\n",
       "      <td>0.000000</td>\n",
       "      <td>0.263038</td>\n",
       "    </tr>\n",
       "    <tr>\n",
       "      <th>227</th>\n",
       "      <td>55422</td>\n",
       "      <td>55422</td>\n",
       "      <td>Yemen</td>\n",
       "      <td>all_energy_types</td>\n",
       "      <td>2019</td>\n",
       "      <td>0.159020</td>\n",
       "      <td>0.133273</td>\n",
       "      <td>53.0838</td>\n",
       "      <td>29162.200</td>\n",
       "      <td>5.452938</td>\n",
       "      <td>2.995635</td>\n",
       "      <td>8.292505</td>\n",
       "    </tr>\n",
       "    <tr>\n",
       "      <th>228</th>\n",
       "      <td>55428</td>\n",
       "      <td>55428</td>\n",
       "      <td>Zambia</td>\n",
       "      <td>all_energy_types</td>\n",
       "      <td>2019</td>\n",
       "      <td>0.207097</td>\n",
       "      <td>0.148004</td>\n",
       "      <td>247.1819</td>\n",
       "      <td>17873.850</td>\n",
       "      <td>11.586567</td>\n",
       "      <td>0.837831</td>\n",
       "      <td>7.096290</td>\n",
       "    </tr>\n",
       "    <tr>\n",
       "      <th>229</th>\n",
       "      <td>55434</td>\n",
       "      <td>55434</td>\n",
       "      <td>Zimbabwe</td>\n",
       "      <td>all_energy_types</td>\n",
       "      <td>2019</td>\n",
       "      <td>0.168651</td>\n",
       "      <td>0.143462</td>\n",
       "      <td>37.6204</td>\n",
       "      <td>14654.200</td>\n",
       "      <td>11.508701</td>\n",
       "      <td>4.482962</td>\n",
       "      <td>8.964759</td>\n",
       "    </tr>\n",
       "  </tbody>\n",
       "</table>\n",
       "<p>230 rows × 12 columns</p>\n",
       "</div>"
      ],
      "text/plain": [
       "     index  Unnamed: 0         Country       Energy_type  Year  \\\n",
       "0    54060       54060     Afghanistan  all_energy_types  2019   \n",
       "1    54066       54066         Albania  all_energy_types  2019   \n",
       "2    54072       54072         Algeria  all_energy_types  2019   \n",
       "3    54078       54078  American Samoa  all_energy_types  2019   \n",
       "4    54084       54084          Angola  all_energy_types  2019   \n",
       "..     ...         ...             ...               ...   ...   \n",
       "225  55410       55410     Wake Island  all_energy_types  2019   \n",
       "226  55416       55416  Western Sahara  all_energy_types  2019   \n",
       "227  55422       55422           Yemen  all_energy_types  2019   \n",
       "228  55428       55428          Zambia  all_energy_types  2019   \n",
       "229  55434       55434        Zimbabwe  all_energy_types  2019   \n",
       "\n",
       "     Energy_consumption  Energy_production       GDP  Population  \\\n",
       "0              0.122748           0.055210   79.4546   38050.900   \n",
       "1              0.110748           0.089082   38.2684    2879.920   \n",
       "2              2.643503           6.429790  509.0660   43030.400   \n",
       "3              0.004912           0.000000       NaN      55.312   \n",
       "4              0.372428           3.510208  193.8260   31849.800   \n",
       "..                  ...                ...       ...         ...   \n",
       "225            0.019436           0.000000       NaN         NaN   \n",
       "226            0.003712           0.000000       NaN         NaN   \n",
       "227            0.159020           0.133273   53.0838   29162.200   \n",
       "228            0.207097           0.148004  247.1819   17873.850   \n",
       "229            0.168651           0.143462   37.6204   14654.200   \n",
       "\n",
       "     Energy_intensity_per_capita  Energy_intensity_by_GDP  CO2_emission  \n",
       "0                       3.225901                 1.544888      9.391163  \n",
       "1                      38.455319                 2.893987      4.031302  \n",
       "2                      61.433374                 5.192849    145.987969  \n",
       "3                      88.796444                 0.000000      0.355428  \n",
       "4                      11.693253                 1.921454     17.644577  \n",
       "..                           ...                      ...           ...  \n",
       "225                     0.000000                 0.000000      1.273787  \n",
       "226                     0.000000                 0.000000      0.263038  \n",
       "227                     5.452938                 2.995635      8.292505  \n",
       "228                    11.586567                 0.837831      7.096290  \n",
       "229                    11.508701                 4.482962      8.964759  \n",
       "\n",
       "[230 rows x 12 columns]"
      ]
     },
     "execution_count": 274,
     "metadata": {},
     "output_type": "execute_result"
    }
   ],
   "source": [
    "# filter out total world stats\n",
    "countries_em = emissions_df[~(emissions_df[\"Country\"] == \"World\")]\n",
    "# choose Year 2020 & each country only once\n",
    "emissions20 = countries_em[(countries_em[\"Year\"]==2019) & (countries_em[\"Energy_type\"]==\"all_energy_types\")]\n",
    "emissions20 = pd.DataFrame.reset_index(emissions20)\n",
    "emissions20"
   ]
  },
  {
   "cell_type": "code",
   "execution_count": 275,
   "id": "5b7f455f",
   "metadata": {
    "scrolled": true
   },
   "outputs": [
    {
     "data": {
      "image/png": "[encoded data removed]",
      "text/plain": [
       "<Figure size 432x288 with 1 Axes>"
      ]
     },
     "metadata": {
      "needs_background": "light"
     },
     "output_type": "display_data"
    }
   ],
   "source": [
    "# histogram of GDP\n",
    "gdp = emissions20[\"GDP\"][~np.isnan(emissions20[\"GDP\"])]\n",
    "plt.hist(gdp)\n",
    "plt.title(\"GDP Histogram\")\n",
    "plt.xlabel(\"GDP (Billions $)\")\n",
    "plt.ylabel(\"Frequency\")\n",
    "plt.show()"
   ]
  },
  {
   "cell_type": "code",
   "execution_count": 276,
   "id": "82bb4714",
   "metadata": {
    "scrolled": true
   },
   "outputs": [
    {
     "data": {
      "image/png": "[encoded data removed]",
      "text/plain": [
       "<Figure size 432x288 with 1 Axes>"
      ]
     },
     "metadata": {
      "needs_background": "light"
     },
     "output_type": "display_data"
    }
   ],
   "source": [
    "# Population histogram\n",
    "pop = emissions20[\"Population\"][~np.isnan(emissions20[\"Population\"])]\n",
    "plt.hist(pop)\n",
    "plt.title(\"Population Histogram\")\n",
    "plt.xlabel(\"Population (Millions)\")\n",
    "plt.ylabel(\"Frequency\")\n",
    "plt.ticklabel_format(style='plain')\n",
    "plt.xticks(rotation=45)\n",
    "plt.show()"
   ]
  },
  {
   "cell_type": "code",
   "execution_count": 277,
   "id": "f22e726c",
   "metadata": {
    "scrolled": false
   },
   "outputs": [
    {
     "data": {
      "image/png": "[encoded data removed]",
      "text/plain": [
       "<Figure size 432x288 with 1 Axes>"
      ]
     },
     "metadata": {
      "needs_background": "light"
     },
     "output_type": "display_data"
    }
   ],
   "source": [
    "# emissions histogram\n",
    "co2 = emissions20[\"CO2_emission\"][~np.isnan(emissions20[\"CO2_emission\"])]\n",
    "plt.hist(co2, bins = 10)\n",
    "plt.title(\"CO2 Emissions Histogram\")\n",
    "plt.xlabel(\"C02 Emissions (Million Metric Tonnes)\")\n",
    "plt.ylabel(\"Frequency\")\n",
    "plt.show()"
   ]
  },
  {
   "cell_type": "code",
   "execution_count": 278,
   "id": "8b2112ac",
   "metadata": {
    "scrolled": false
   },
   "outputs": [
    {
     "data": {
      "image/png": "[encoded data removed]",
      "text/plain": [
       "<Figure size 432x288 with 1 Axes>"
      ]
     },
     "metadata": {
      "needs_background": "light"
     },
     "output_type": "display_data"
    }
   ],
   "source": [
    "# energy consumption histogram\n",
    "energy_cons = emissions20[\"Energy_consumption\"][~np.isnan(emissions20[\"Energy_consumption\"])]\n",
    "plt.hist(energy_cons, bins = 10)\n",
    "plt.title(\"Energy Consumption Histogram\")\n",
    "plt.xlabel(\"Energy Consumption (quad BTU)\")\n",
    "plt.ylabel(\"Frequency\")\n",
    "plt.show()"
   ]
  },
  {
   "cell_type": "code",
   "execution_count": 279,
   "id": "db04c920",
   "metadata": {
    "scrolled": true
   },
   "outputs": [
    {
     "data": {
      "image/png": "[encoded data removed]",
      "text/plain": [
       "<Figure size 432x288 with 1 Axes>"
      ]
     },
     "metadata": {
      "needs_background": "light"
     },
     "output_type": "display_data"
    }
   ],
   "source": [
    "# energy production histogram\n",
    "energy_prod = emissions20[\"Energy_production\"][~np.isnan(emissions20[\"Energy_production\"])]\n",
    "plt.hist(energy_prod, bins = 10)\n",
    "plt.title(\"Energy Production Histogram\")\n",
    "plt.xlabel(\"Energy Production (quad BTU)\")\n",
    "plt.ylabel(\"Frequency\")\n",
    "plt.show()"
   ]
  },
  {
   "cell_type": "markdown",
   "id": "21cc84b9",
   "metadata": {},
   "source": [
    "There are huge inequalities between countries when it comes to population, GDP, energy consumptions, and co2 emissions. None are normally distributed. "
   ]
  },
  {
   "cell_type": "markdown",
   "id": "3d0d1dd6",
   "metadata": {},
   "source": [
    "## Other Descriptive Characteristics"
   ]
  },
  {
   "cell_type": "code",
   "execution_count": 280,
   "id": "e419f542",
   "metadata": {},
   "outputs": [
    {
     "name": "stdout",
     "output_type": "stream",
     "text": [
      "GDP\n",
      "Mean: 638.4512352949998\n",
      "Spread: 5468357.318554283\n",
      "Tails:\n",
      "0     79.45460\n",
      "1     38.26840\n",
      "2    509.06600\n",
      "4    193.82600\n",
      "6      2.12893\n",
      "Name: GDP, dtype: float64223    190.1472\n",
      "224    915.5040\n",
      "227     53.0838\n",
      "228    247.1819\n",
      "229     37.6204\n",
      "Name: GDP, dtype: float64\n"
     ]
    }
   ],
   "source": [
    "# mean, spread, tails of GDP\n",
    "print(f\"GDP\\nMean: {gdp.mean()}\\nSpread: {gdp.var()}\\nTails:\\n{pd.Series.head(gdp)}{pd.Series.tail(gdp)}\")"
   ]
  },
  {
   "cell_type": "code",
   "execution_count": 281,
   "id": "712f68d1",
   "metadata": {
    "scrolled": true
   },
   "outputs": [
    {
     "name": "stdout",
     "output_type": "stream",
     "text": [
      "Population\n",
      "Mean: 38003.108688817716\n",
      "Spread: 20696274720.739307\n",
      "Tails:\n",
      "0    38050.900\n",
      "1     2879.920\n",
      "2    43030.400\n",
      "3       55.312\n",
      "4    31849.800\n",
      "Name: Population, dtype: float64223    28515.85\n",
      "224    96425.90\n",
      "227    29162.20\n",
      "228    17873.85\n",
      "229    14654.20\n",
      "Name: Population, dtype: float64\n"
     ]
    }
   ],
   "source": [
    "# mean, spread, tails of Population\n",
    "print(f\"Population\\nMean: {pop.mean()}\\nSpread: {pop.var()}\\nTails:\\n{pd.Series.head(pop)}{pd.Series.tail(pop)}\")"
   ]
  },
  {
   "cell_type": "code",
   "execution_count": 282,
   "id": "e2419ff1",
   "metadata": {
    "scrolled": true
   },
   "outputs": [
    {
     "name": "stdout",
     "output_type": "stream",
     "text": [
      "CO2 Emissions\n",
      "Mean: 159.57369281477574\n",
      "Spread: 673858.0891964487\n",
      "Tails:\n",
      "0      9.391163\n",
      "1      4.031302\n",
      "2    145.987969\n",
      "3      0.355428\n",
      "4     17.644577\n",
      "Name: CO2_emission, dtype: float64225    1.273787\n",
      "226    0.263038\n",
      "227    8.292505\n",
      "228    7.096290\n",
      "229    8.964759\n",
      "Name: CO2_emission, dtype: float64\n"
     ]
    }
   ],
   "source": [
    "# mean, spread, tails of Co2\n",
    "print(f\"CO2 Emissions\\nMean: {co2.mean()}\\nSpread: {co2.var()}\\nTails:\\n{pd.Series.head(co2)}{pd.Series.tail(co2)}\")"
   ]
  },
  {
   "cell_type": "code",
   "execution_count": 283,
   "id": "66340bf9",
   "metadata": {
    "scrolled": true
   },
   "outputs": [
    {
     "name": "stdout",
     "output_type": "stream",
     "text": [
      "Energy Consumption\n",
      "Mean: 2.6952488338739244\n",
      "Spread: 160.75077129753026\n",
      "Tails:\n",
      "0    0.122748\n",
      "1    0.110748\n",
      "2    2.643503\n",
      "3    0.004912\n",
      "4    0.372428\n",
      "Name: Energy_consumption, dtype: float64225    0.019436\n",
      "226    0.003712\n",
      "227    0.159020\n",
      "228    0.207097\n",
      "229    0.168651\n",
      "Name: Energy_consumption, dtype: float64\n"
     ]
    }
   ],
   "source": [
    "# mean, spread, tails of energy consumption\n",
    "print(f\"Energy Consumption\\nMean: {energy_cons.mean()}\\nSpread: {energy_cons.var()}\\nTails:\\n{pd.Series.head(energy_cons)}{pd.Series.tail(energy_cons)}\")"
   ]
  },
  {
   "cell_type": "code",
   "execution_count": 284,
   "id": "0297fa56",
   "metadata": {
    "scrolled": true
   },
   "outputs": [
    {
     "name": "stdout",
     "output_type": "stream",
     "text": [
      "Energy Production\n",
      "Mean: 2.7421926845185047\n",
      "Spread: 142.73142468667712\n",
      "Tails:\n",
      "0    0.055210\n",
      "1    0.089082\n",
      "2    6.429790\n",
      "3    0.000000\n",
      "4    3.510208\n",
      "Name: Energy_production, dtype: float64225    0.000000\n",
      "226    0.000000\n",
      "227    0.133273\n",
      "228    0.148004\n",
      "229    0.143462\n",
      "Name: Energy_production, dtype: float64\n"
     ]
    }
   ],
   "source": [
    "# mean, spread, tails of energy production\n",
    "print(f\"Energy Production\\nMean: {energy_prod.mean()}\\nSpread: {energy_prod.var()}\\nTails:\\n{pd.Series.head(energy_prod)}{pd.Series.tail(energy_prod)}\")"
   ]
  },
  {
   "cell_type": "markdown",
   "id": "4184c737",
   "metadata": {},
   "source": [
    "## PMF's"
   ]
  },
  {
   "cell_type": "code",
   "execution_count": 326,
   "id": "7d5c2a7c",
   "metadata": {},
   "outputs": [
    {
     "data": {
      "text/plain": [
       "0        9.391163\n",
       "1        4.031302\n",
       "2      145.987969\n",
       "3        0.355428\n",
       "4       17.644577\n",
       "          ...    \n",
       "225      1.273787\n",
       "226      0.263038\n",
       "227      8.292505\n",
       "228      7.096290\n",
       "229      8.964759\n",
       "Name: CO2_emission, Length: 223, dtype: float64"
      ]
     },
     "execution_count": 326,
     "metadata": {},
     "output_type": "execute_result"
    }
   ],
   "source": [
    "co2"
   ]
  },
  {
   "cell_type": "code",
   "execution_count": 331,
   "id": "57dfbeda",
   "metadata": {},
   "outputs": [
    {
     "name": "stdout",
     "output_type": "stream",
     "text": [
      "9.391163087\n",
      "4.031301559\n",
      "145.987969135\n",
      "0.35542766\n",
      "17.644576606\n",
      "0.013782287\n",
      "0.7348894\n",
      "191.358658271\n",
      "5.976457104\n",
      "1.20493081\n",
      "410.865148205\n",
      "63.844027897\n",
      "33.285637886\n",
      "39.014442502\n",
      "90.78163083\n",
      "1.702104465\n",
      "56.523597698\n",
      "132.279624636\n",
      "0.577712955\n",
      "7.736424191\n",
      "0.797279806\n",
      "0.967306365\n",
      "18.335565837\n",
      "17.266938088\n",
      "6.188921367\n",
      "453.443272227\n",
      "0.216635316\n",
      "10.22519768\n",
      "41.542759685\n",
      "4.391342618\n",
      "32.968880216\n",
      "0.67983302\n",
      "1.001529634\n",
      "11.890895952\n",
      "7.245713401\n",
      "613.089866972\n",
      "0.667298\n",
      "0.278282\n",
      "1.7162899\n",
      "86.874650457\n",
      "10608.600386434\n",
      "75.94596771\n",
      "0.301926504\n",
      "4.4339781\n",
      "2.641757936\n",
      "0.1123327\n",
      "7.923880021\n",
      "17.147887659\n",
      "22.496372604\n",
      "8.226035335\n",
      "104.272224724\n",
      "10.798183713\n",
      "36.120050677\n",
      "0.67469826\n",
      "0.185983702\n",
      "25.265246857\n",
      "37.349371309\n",
      "235.494498177\n",
      "7.04650887\n",
      "4.669231827\n",
      "0.74245581\n",
      "5.509905901\n",
      "1.203506529\n",
      "14.060422857\n",
      "0.04640807\n",
      "0.869814783\n",
      "1.649180054\n",
      "44.65256288\n",
      "341.980653833\n",
      "0.870318457\n",
      "1.029653081\n",
      "3.278674777\n",
      "0.5941987\n",
      "9.84778636\n",
      "781.596225481\n",
      "17.630249841\n",
      "13.83733\n",
      "73.672821577\n",
      "0.612110253\n",
      "0.317136381\n",
      "1.90047837\n",
      "1.82829707\n",
      "19.708437412\n",
      "2.980732599\n",
      "0.341846886\n",
      "2.321942783\n",
      "3.457576199\n",
      "10.050869894\n",
      "97.454364217\n",
      "49.473804477\n",
      "3.871221764\n",
      "2308.332020002\n",
      "529.404672898\n",
      "642.964293906\n",
      "154.661243618\n",
      "37.056083624\n",
      "64.594443709\n",
      "339.577060466\n",
      "8.071670366\n",
      "1140.949687525\n",
      "24.328952101\n",
      "269.713173947\n",
      "18.746653189\n",
      "0.07528207\n",
      "7.7258036\n",
      "92.889166266\n",
      "9.123794565\n",
      "29.94530902\n",
      "7.87244579\n",
      "25.478354557\n",
      "0.71763765\n",
      "1.34566552\n",
      "39.866451985\n",
      "14.25507877\n",
      "11.169565111\n",
      "2.013405144\n",
      "3.391414709\n",
      "1.508163994\n",
      "247.428983914\n",
      "2.036072914\n",
      "5.257908981\n",
      "9.191731982\n",
      "2.24158345\n",
      "3.87875476\n",
      "6.938191586\n",
      "456.148338455\n",
      "0.18151256\n",
      "7.975804163\n",
      "20.901836824\n",
      "2.524134994\n",
      "0.033486782\n",
      "59.02569629\n",
      "7.785808405\n",
      "3.90852628\n",
      "0.083366555\n",
      "8.30706762\n",
      "216.830355385\n",
      "14.496783\n",
      "6.032140267\n",
      "38.962262785\n",
      "5.027809\n",
      "2.276804081\n",
      "101.193925365\n",
      "0.007517555\n",
      "20.153995305\n",
      "6.539300393\n",
      "0.0\n",
      "38.055784902\n",
      "75.869640578\n",
      "192.896993866\n",
      "3.277635491\n",
      "26.79318633\n",
      "6.323287075\n",
      "8.338166715\n",
      "52.918496178\n",
      "135.216311732\n",
      "319.670314026\n",
      "53.518320981\n",
      "20.150917372\n",
      "105.34120271\n",
      "2.722415119\n",
      "73.684118621\n",
      "1798.242238512\n",
      "1.10937668\n",
      "0.0098209\n",
      "0.268462136\n",
      "0.451661075\n",
      "0.0988793\n",
      "0.2392802\n",
      "0.324490111\n",
      "0.158288716\n",
      "567.98859898\n",
      "9.558694385\n",
      "47.041072192\n",
      "1.1521043\n",
      "0.985050284\n",
      "244.056494874\n",
      "34.50052687\n",
      "14.248656405\n",
      "0.338062091\n",
      "0.882390681\n",
      "455.448598942\n",
      "702.961082317\n",
      "1.675889\n",
      "293.779473717\n",
      "22.809417184\n",
      "18.36376\n",
      "2.314032735\n",
      "47.079863482\n",
      "38.8391437\n",
      "30.957562784\n",
      "283.193662206\n",
      "6.870917512\n",
      "11.481377071\n",
      "303.667169932\n",
      "3.982675282\n",
      "0.53420808\n",
      "2.255794107\n",
      "0.150016259\n",
      "40.485352133\n",
      "25.326405225\n",
      "397.800544326\n",
      "97.306322119\n",
      "0.23745\n",
      "0.0\n",
      "0.301545627\n",
      "0.0\n",
      "2.438125286\n",
      "5.866205464\n",
      "202.513341064\n",
      "274.042277491\n",
      "411.167847675\n",
      "5277.192754\n",
      "7.311541742\n",
      "99.389348903\n",
      "0.234325792\n",
      "131.48505504\n",
      "241.806422052\n",
      "1.273786855\n",
      "0.26303824\n",
      "8.292505229\n",
      "7.09628982\n",
      "8.964759021\n"
     ]
    }
   ],
   "source": [
    "for index, val in co2.items():\n",
    "    print(val)"
   ]
  },
  {
   "cell_type": "code",
   "execution_count": 334,
   "id": "1f1b6549",
   "metadata": {},
   "outputs": [],
   "source": [
    "temp = []\n",
    "for index, val in co2.items():\n",
    "    if(val > 10000):\n",
    "        temp.append(11000)\n",
    "    elif(val > 9000):\n",
    "        temp.append(10000)\n",
    "    elif(val > 8000):\n",
    "        temp.append(9000)\n",
    "    elif(val > 7000):\n",
    "        temp.append(8000)\n",
    "    elif(val > 6000):\n",
    "        temp.append(7000)\n",
    "    elif(val > 5000):\n",
    "        temp.append(6000)\n",
    "    elif(val > 4000):\n",
    "        temp.append(5000)\n",
    "    elif(val > 3000):\n",
    "        temp.append(4000)\n",
    "    elif(val > 2000):\n",
    "        temp.append(3000)\n",
    "    elif(val> 1000):\n",
    "        temp.append(2000)\n",
    "    else:\n",
    "        temp.append(1000)\n",
    "groups = pd.Series(temp)"
   ]
  },
  {
   "cell_type": "code",
   "execution_count": 337,
   "id": "4cc215dc",
   "metadata": {},
   "outputs": [
    {
     "data": {
      "text/plain": [
       "1085.201793721973"
      ]
     },
     "execution_count": 337,
     "metadata": {},
     "output_type": "execute_result"
    }
   ],
   "source": [
    "groups.mean()"
   ]
  },
  {
   "cell_type": "code",
   "execution_count": 287,
   "id": "338d0ee1",
   "metadata": {
    "scrolled": true
   },
   "outputs": [],
   "source": [
    "# comparing co2 emissions of most populous countries vs all others\n",
    "pop_sorted = emissions20.sort_values(by=[\"Population\"], ascending=False).reset_index(drop=True)\n",
    "pop_sorted\n",
    "pop_high = pop_sorted[0:10]\n",
    "pop_other = pop_sorted.drop(pop_sorted.index[0:10]).reset_index(drop=True)"
   ]
  },
  {
   "cell_type": "code",
   "execution_count": 288,
   "id": "a8d371c9",
   "metadata": {
    "scrolled": true
   },
   "outputs": [
    {
     "data": {
      "image/png": "[encoded data removed]",
      "text/plain": [
       "<Figure size 432x288 with 1 Axes>"
      ]
     },
     "metadata": {
      "needs_background": "light"
     },
     "output_type": "display_data"
    }
   ],
   "source": [
    "pop_high_em = pop_high[\"CO2_emission\"]\n",
    "high_pmf = ed.Pmf(pop_high_em)\n",
    "high_pmf.bar()"
   ]
  },
  {
   "cell_type": "code",
   "execution_count": 289,
   "id": "32d3ee7a",
   "metadata": {
    "scrolled": true
   },
   "outputs": [
    {
     "data": {
      "text/html": [
       "<div>\n",
       "<style scoped>\n",
       "    .dataframe tbody tr th:only-of-type {\n",
       "        vertical-align: middle;\n",
       "    }\n",
       "\n",
       "    .dataframe tbody tr th {\n",
       "        vertical-align: top;\n",
       "    }\n",
       "\n",
       "    .dataframe thead th {\n",
       "        text-align: right;\n",
       "    }\n",
       "</style>\n",
       "<table border=\"1\" class=\"dataframe\">\n",
       "  <thead>\n",
       "    <tr style=\"text-align: right;\">\n",
       "      <th></th>\n",
       "      <th>probs</th>\n",
       "    </tr>\n",
       "  </thead>\n",
       "  <tbody>\n",
       "    <tr>\n",
       "      <th>0</th>\n",
       "      <td>1140.949688</td>\n",
       "    </tr>\n",
       "    <tr>\n",
       "      <th>1</th>\n",
       "      <td>14.060423</td>\n",
       "    </tr>\n",
       "    <tr>\n",
       "      <th>2</th>\n",
       "      <td>135.216312</td>\n",
       "    </tr>\n",
       "    <tr>\n",
       "      <th>3</th>\n",
       "      <td>235.494498</td>\n",
       "    </tr>\n",
       "    <tr>\n",
       "      <th>4</th>\n",
       "      <td>241.806422</td>\n",
       "    </tr>\n",
       "    <tr>\n",
       "      <th>...</th>\n",
       "      <td>...</td>\n",
       "    </tr>\n",
       "    <tr>\n",
       "      <th>215</th>\n",
       "      <td>0.000000</td>\n",
       "    </tr>\n",
       "    <tr>\n",
       "      <th>216</th>\n",
       "      <td>0.301546</td>\n",
       "    </tr>\n",
       "    <tr>\n",
       "      <th>217</th>\n",
       "      <td>0.000000</td>\n",
       "    </tr>\n",
       "    <tr>\n",
       "      <th>218</th>\n",
       "      <td>1.273787</td>\n",
       "    </tr>\n",
       "    <tr>\n",
       "      <th>219</th>\n",
       "      <td>0.263038</td>\n",
       "    </tr>\n",
       "  </tbody>\n",
       "</table>\n",
       "<p>220 rows × 1 columns</p>\n",
       "</div>"
      ],
      "text/plain": [
       "0      1140.949688\n",
       "1        14.060423\n",
       "2       135.216312\n",
       "3       235.494498\n",
       "4       241.806422\n",
       "          ...     \n",
       "215       0.000000\n",
       "216       0.301546\n",
       "217       0.000000\n",
       "218       1.273787\n",
       "219       0.263038\n",
       "Name: , Length: 220, dtype: float64"
      ]
     },
     "execution_count": 289,
     "metadata": {},
     "output_type": "execute_result"
    },
    {
     "data": {
      "image/png": "[encoded data removed]",
      "text/plain": [
       "<Figure size 432x288 with 1 Axes>"
      ]
     },
     "metadata": {
      "needs_background": "light"
     },
     "output_type": "display_data"
    }
   ],
   "source": [
    "pop_other_em = pop_other[\"CO2_emission\"]\n",
    "low_pmf = ed.Pmf(pop_other_em)\n",
    "low_pmf.bar()\n",
    "low_pmf"
   ]
  },
  {
   "cell_type": "code",
   "execution_count": 290,
   "id": "e40ec12f",
   "metadata": {},
   "outputs": [
    {
     "data": {
      "text/html": [
       "<div>\n",
       "<style scoped>\n",
       "    .dataframe tbody tr th:only-of-type {\n",
       "        vertical-align: middle;\n",
       "    }\n",
       "\n",
       "    .dataframe tbody tr th {\n",
       "        vertical-align: top;\n",
       "    }\n",
       "\n",
       "    .dataframe thead th {\n",
       "        text-align: right;\n",
       "    }\n",
       "</style>\n",
       "<table border=\"1\" class=\"dataframe\">\n",
       "  <thead>\n",
       "    <tr style=\"text-align: right;\">\n",
       "      <th></th>\n",
       "      <th>probs</th>\n",
       "    </tr>\n",
       "  </thead>\n",
       "  <tbody>\n",
       "    <tr>\n",
       "      <th>1</th>\n",
       "      <td>0.166667</td>\n",
       "    </tr>\n",
       "    <tr>\n",
       "      <th>2</th>\n",
       "      <td>0.166667</td>\n",
       "    </tr>\n",
       "    <tr>\n",
       "      <th>3</th>\n",
       "      <td>0.166667</td>\n",
       "    </tr>\n",
       "    <tr>\n",
       "      <th>4</th>\n",
       "      <td>0.166667</td>\n",
       "    </tr>\n",
       "    <tr>\n",
       "      <th>5</th>\n",
       "      <td>0.166667</td>\n",
       "    </tr>\n",
       "    <tr>\n",
       "      <th>6</th>\n",
       "      <td>0.166667</td>\n",
       "    </tr>\n",
       "  </tbody>\n",
       "</table>\n",
       "</div>"
      ],
      "text/plain": [
       "1    0.166667\n",
       "2    0.166667\n",
       "3    0.166667\n",
       "4    0.166667\n",
       "5    0.166667\n",
       "6    0.166667\n",
       "Name: , dtype: float64"
      ]
     },
     "execution_count": 290,
     "metadata": {},
     "output_type": "execute_result"
    }
   ],
   "source": [
    "\n",
    "d6 = ed.Pmf.from_seq([1,2,3,4,5,6])\n",
    "d6"
   ]
  },
  {
   "cell_type": "markdown",
   "id": "839eb3ae",
   "metadata": {},
   "source": [
    "# For Tomorrow\n",
    "- fix tails (need to sort it ascending then do head/tails call\n",
    "- pmf should be probability of having C02 emissions > mean"
   ]
  },
  {
   "cell_type": "markdown",
   "id": "8abef840",
   "metadata": {},
   "source": [
    "## CDF"
   ]
  },
  {
   "cell_type": "code",
   "execution_count": 291,
   "id": "8b0edde5",
   "metadata": {
    "scrolled": true
   },
   "outputs": [
    {
     "data": {
      "text/html": [
       "<div>\n",
       "<style scoped>\n",
       "    .dataframe tbody tr th:only-of-type {\n",
       "        vertical-align: middle;\n",
       "    }\n",
       "\n",
       "    .dataframe tbody tr th {\n",
       "        vertical-align: top;\n",
       "    }\n",
       "\n",
       "    .dataframe thead th {\n",
       "        text-align: right;\n",
       "    }\n",
       "</style>\n",
       "<table border=\"1\" class=\"dataframe\">\n",
       "  <thead>\n",
       "    <tr style=\"text-align: right;\">\n",
       "      <th></th>\n",
       "      <th>probs</th>\n",
       "    </tr>\n",
       "  </thead>\n",
       "  <tbody>\n",
       "    <tr>\n",
       "      <th>0</th>\n",
       "      <td>9.391163</td>\n",
       "    </tr>\n",
       "    <tr>\n",
       "      <th>1</th>\n",
       "      <td>4.031302</td>\n",
       "    </tr>\n",
       "    <tr>\n",
       "      <th>2</th>\n",
       "      <td>145.987969</td>\n",
       "    </tr>\n",
       "    <tr>\n",
       "      <th>3</th>\n",
       "      <td>0.355428</td>\n",
       "    </tr>\n",
       "    <tr>\n",
       "      <th>4</th>\n",
       "      <td>17.644577</td>\n",
       "    </tr>\n",
       "    <tr>\n",
       "      <th>...</th>\n",
       "      <td>...</td>\n",
       "    </tr>\n",
       "    <tr>\n",
       "      <th>225</th>\n",
       "      <td>1.273787</td>\n",
       "    </tr>\n",
       "    <tr>\n",
       "      <th>226</th>\n",
       "      <td>0.263038</td>\n",
       "    </tr>\n",
       "    <tr>\n",
       "      <th>227</th>\n",
       "      <td>8.292505</td>\n",
       "    </tr>\n",
       "    <tr>\n",
       "      <th>228</th>\n",
       "      <td>7.096290</td>\n",
       "    </tr>\n",
       "    <tr>\n",
       "      <th>229</th>\n",
       "      <td>8.964759</td>\n",
       "    </tr>\n",
       "  </tbody>\n",
       "</table>\n",
       "<p>230 rows × 1 columns</p>\n",
       "</div>"
      ],
      "text/plain": [
       "0        9.391163\n",
       "1        4.031302\n",
       "2      145.987969\n",
       "3        0.355428\n",
       "4       17.644577\n",
       "          ...    \n",
       "225      1.273787\n",
       "226      0.263038\n",
       "227      8.292505\n",
       "228      7.096290\n",
       "229      8.964759\n",
       "Name: , Length: 230, dtype: float64"
      ]
     },
     "execution_count": 291,
     "metadata": {},
     "output_type": "execute_result"
    }
   ],
   "source": [
    "co2_cdf = ed.Cdf(emissions20.CO2_emission)\n",
    "co2_cdf"
   ]
  },
  {
   "cell_type": "code",
   "execution_count": 292,
   "id": "6ccba057",
   "metadata": {},
   "outputs": [
    {
     "name": "stdout",
     "output_type": "stream",
     "text": [
      "0.9999999999999999\n"
     ]
    },
    {
     "data": {
      "image/png": "[encoded data removed]",
      "text/plain": [
       "<Figure size 432x288 with 1 Axes>"
      ]
     },
     "metadata": {
      "needs_background": "light"
     },
     "output_type": "display_data"
    }
   ],
   "source": [
    "num_bins = 50\n",
    "counts, bins = np.histogram(pop_high_em, bins=num_bins)\n",
    "bins = bins[:-1] + (bins[1] - bins[0])/2\n",
    "probs = counts/float(counts.sum())\n",
    "print (probs.sum()) # 1.0\n",
    "plt.bar(bins, probs, 1.0/num_bins)\n",
    "plt.show()"
   ]
  }
 ],
 "metadata": {
  "kernelspec": {
   "display_name": "Python 3 (ipykernel)",
   "language": "python",
   "name": "python3"
  },
  "language_info": {
   "codemirror_mode": {
    "name": "ipython",
    "version": 3
   },
   "file_extension": ".py",
   "mimetype": "text/x-python",
   "name": "python",
   "nbconvert_exporter": "python",
   "pygments_lexer": "ipython3",
   "version": "3.9.7"
  }
 },
 "nbformat": 4,
 "nbformat_minor": 5
}
