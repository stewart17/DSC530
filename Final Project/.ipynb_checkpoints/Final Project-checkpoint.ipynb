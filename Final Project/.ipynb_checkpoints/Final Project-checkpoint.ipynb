{
 "cells": [
  {
   "cell_type": "markdown",
   "id": "61113453",
   "metadata": {},
   "source": [
    "# Final Project: Does a Higher Population Lead to Higher Emissions"
   ]
  },
  {
   "cell_type": "markdown",
   "id": "ef77f185",
   "metadata": {},
   "source": [
    "## Variables\n",
    "- GDP - Countries GDP at purchasing power parities, measured (Billion 2015\\\\$ PPP)\n",
    "- Population - Population of specific Country, measured (Mperson)\n",
    "- CO2_emission - The amount of C02 emitted, measured (MMtonnes CO2)\n",
    "- Energy_consumption - Amount of Consumption for the specific energy source, measured (quad Btu)\n",
    "- Energy_production - Amount of Production for the specific energy source, measured (quad Btu)"
   ]
  },
  {
   "cell_type": "code",
   "execution_count": 58,
   "id": "2e57f69b",
   "metadata": {},
   "outputs": [],
   "source": [
    "import pandas as pd\n",
    "import scipy\n",
    "from matplotlib import pyplot  as plt\n",
    "import numpy as np\n",
    "import empiricaldist as ed\n",
    "import math\n",
    "from scipy.stats import pareto\n",
    "from thinkstats2 import HypothesisTest\n",
    "from numpy.random import default_rng\n",
    "import thinkstats2\n",
    "import statsmodels.formula.api as smf"
   ]
  },
  {
   "cell_type": "code",
   "execution_count": 3,
   "id": "6f1e636a",
   "metadata": {},
   "outputs": [],
   "source": [
    "# places emissions into data frameji\n",
    "emissions_df = pd.read_csv(r\"energy.csv\" )"
   ]
  },
  {
   "cell_type": "code",
   "execution_count": 4,
   "id": "da625bfb",
   "metadata": {
    "scrolled": true
   },
   "outputs": [
    {
     "data": {
      "text/html": [
       "<div>\n",
       "<style scoped>\n",
       "    .dataframe tbody tr th:only-of-type {\n",
       "        vertical-align: middle;\n",
       "    }\n",
       "\n",
       "    .dataframe tbody tr th {\n",
       "        vertical-align: top;\n",
       "    }\n",
       "\n",
       "    .dataframe thead th {\n",
       "        text-align: right;\n",
       "    }\n",
       "</style>\n",
       "<table border=\"1\" class=\"dataframe\">\n",
       "  <thead>\n",
       "    <tr style=\"text-align: right;\">\n",
       "      <th></th>\n",
       "      <th>Unnamed: 0</th>\n",
       "      <th>Country</th>\n",
       "      <th>Energy_type</th>\n",
       "      <th>Year</th>\n",
       "      <th>Energy_consumption</th>\n",
       "      <th>Energy_production</th>\n",
       "      <th>GDP</th>\n",
       "      <th>Population</th>\n",
       "      <th>Energy_intensity_per_capita</th>\n",
       "      <th>Energy_intensity_by_GDP</th>\n",
       "      <th>CO2_emission</th>\n",
       "    </tr>\n",
       "  </thead>\n",
       "  <tbody>\n",
       "    <tr>\n",
       "      <th>0</th>\n",
       "      <td>0</td>\n",
       "      <td>World</td>\n",
       "      <td>all_energy_types</td>\n",
       "      <td>1980</td>\n",
       "      <td>292.899790</td>\n",
       "      <td>296.337228</td>\n",
       "      <td>27770.910281</td>\n",
       "      <td>4.298127e+06</td>\n",
       "      <td>68.145921</td>\n",
       "      <td>10.547000</td>\n",
       "      <td>4946.627130</td>\n",
       "    </tr>\n",
       "    <tr>\n",
       "      <th>1</th>\n",
       "      <td>1</td>\n",
       "      <td>World</td>\n",
       "      <td>coal</td>\n",
       "      <td>1980</td>\n",
       "      <td>78.656134</td>\n",
       "      <td>80.114194</td>\n",
       "      <td>27770.910281</td>\n",
       "      <td>4.298127e+06</td>\n",
       "      <td>68.145921</td>\n",
       "      <td>10.547000</td>\n",
       "      <td>1409.790188</td>\n",
       "    </tr>\n",
       "    <tr>\n",
       "      <th>2</th>\n",
       "      <td>2</td>\n",
       "      <td>World</td>\n",
       "      <td>natural_gas</td>\n",
       "      <td>1980</td>\n",
       "      <td>53.865223</td>\n",
       "      <td>54.761046</td>\n",
       "      <td>27770.910281</td>\n",
       "      <td>4.298127e+06</td>\n",
       "      <td>68.145921</td>\n",
       "      <td>10.547000</td>\n",
       "      <td>1081.593377</td>\n",
       "    </tr>\n",
       "    <tr>\n",
       "      <th>3</th>\n",
       "      <td>3</td>\n",
       "      <td>World</td>\n",
       "      <td>petroleum_n_other_liquids</td>\n",
       "      <td>1980</td>\n",
       "      <td>132.064019</td>\n",
       "      <td>133.111109</td>\n",
       "      <td>27770.910281</td>\n",
       "      <td>4.298127e+06</td>\n",
       "      <td>68.145921</td>\n",
       "      <td>10.547000</td>\n",
       "      <td>2455.243565</td>\n",
       "    </tr>\n",
       "    <tr>\n",
       "      <th>4</th>\n",
       "      <td>4</td>\n",
       "      <td>World</td>\n",
       "      <td>nuclear</td>\n",
       "      <td>1980</td>\n",
       "      <td>7.575700</td>\n",
       "      <td>7.575700</td>\n",
       "      <td>27770.910281</td>\n",
       "      <td>4.298127e+06</td>\n",
       "      <td>68.145921</td>\n",
       "      <td>10.547000</td>\n",
       "      <td>0.000000</td>\n",
       "    </tr>\n",
       "    <tr>\n",
       "      <th>...</th>\n",
       "      <td>...</td>\n",
       "      <td>...</td>\n",
       "      <td>...</td>\n",
       "      <td>...</td>\n",
       "      <td>...</td>\n",
       "      <td>...</td>\n",
       "      <td>...</td>\n",
       "      <td>...</td>\n",
       "      <td>...</td>\n",
       "      <td>...</td>\n",
       "      <td>...</td>\n",
       "    </tr>\n",
       "    <tr>\n",
       "      <th>55435</th>\n",
       "      <td>55435</td>\n",
       "      <td>Zimbabwe</td>\n",
       "      <td>coal</td>\n",
       "      <td>2019</td>\n",
       "      <td>0.045064</td>\n",
       "      <td>0.075963</td>\n",
       "      <td>37.620400</td>\n",
       "      <td>1.465420e+04</td>\n",
       "      <td>11.508701</td>\n",
       "      <td>4.482962</td>\n",
       "      <td>4.586869</td>\n",
       "    </tr>\n",
       "    <tr>\n",
       "      <th>55436</th>\n",
       "      <td>55436</td>\n",
       "      <td>Zimbabwe</td>\n",
       "      <td>natural_gas</td>\n",
       "      <td>2019</td>\n",
       "      <td>0.000000</td>\n",
       "      <td>0.000000</td>\n",
       "      <td>37.620400</td>\n",
       "      <td>1.465420e+04</td>\n",
       "      <td>11.508701</td>\n",
       "      <td>4.482962</td>\n",
       "      <td>0.000000</td>\n",
       "    </tr>\n",
       "    <tr>\n",
       "      <th>55437</th>\n",
       "      <td>55437</td>\n",
       "      <td>Zimbabwe</td>\n",
       "      <td>petroleum_n_other_liquids</td>\n",
       "      <td>2019</td>\n",
       "      <td>0.055498</td>\n",
       "      <td>0.000000</td>\n",
       "      <td>37.620400</td>\n",
       "      <td>1.465420e+04</td>\n",
       "      <td>11.508701</td>\n",
       "      <td>4.482962</td>\n",
       "      <td>4.377890</td>\n",
       "    </tr>\n",
       "    <tr>\n",
       "      <th>55438</th>\n",
       "      <td>55438</td>\n",
       "      <td>Zimbabwe</td>\n",
       "      <td>nuclear</td>\n",
       "      <td>2019</td>\n",
       "      <td>NaN</td>\n",
       "      <td>NaN</td>\n",
       "      <td>37.620400</td>\n",
       "      <td>1.465420e+04</td>\n",
       "      <td>11.508701</td>\n",
       "      <td>4.482962</td>\n",
       "      <td>0.000000</td>\n",
       "    </tr>\n",
       "    <tr>\n",
       "      <th>55439</th>\n",
       "      <td>55439</td>\n",
       "      <td>Zimbabwe</td>\n",
       "      <td>renewables_n_other</td>\n",
       "      <td>2019</td>\n",
       "      <td>0.068089</td>\n",
       "      <td>0.067499</td>\n",
       "      <td>37.620400</td>\n",
       "      <td>1.465420e+04</td>\n",
       "      <td>11.508701</td>\n",
       "      <td>4.482962</td>\n",
       "      <td>0.000000</td>\n",
       "    </tr>\n",
       "  </tbody>\n",
       "</table>\n",
       "<p>55440 rows × 11 columns</p>\n",
       "</div>"
      ],
      "text/plain": [
       "       Unnamed: 0   Country                Energy_type  Year  \\\n",
       "0               0     World           all_energy_types  1980   \n",
       "1               1     World                       coal  1980   \n",
       "2               2     World                natural_gas  1980   \n",
       "3               3     World  petroleum_n_other_liquids  1980   \n",
       "4               4     World                    nuclear  1980   \n",
       "...           ...       ...                        ...   ...   \n",
       "55435       55435  Zimbabwe                       coal  2019   \n",
       "55436       55436  Zimbabwe                natural_gas  2019   \n",
       "55437       55437  Zimbabwe  petroleum_n_other_liquids  2019   \n",
       "55438       55438  Zimbabwe                    nuclear  2019   \n",
       "55439       55439  Zimbabwe         renewables_n_other  2019   \n",
       "\n",
       "       Energy_consumption  Energy_production           GDP    Population  \\\n",
       "0              292.899790         296.337228  27770.910281  4.298127e+06   \n",
       "1               78.656134          80.114194  27770.910281  4.298127e+06   \n",
       "2               53.865223          54.761046  27770.910281  4.298127e+06   \n",
       "3              132.064019         133.111109  27770.910281  4.298127e+06   \n",
       "4                7.575700           7.575700  27770.910281  4.298127e+06   \n",
       "...                   ...                ...           ...           ...   \n",
       "55435            0.045064           0.075963     37.620400  1.465420e+04   \n",
       "55436            0.000000           0.000000     37.620400  1.465420e+04   \n",
       "55437            0.055498           0.000000     37.620400  1.465420e+04   \n",
       "55438                 NaN                NaN     37.620400  1.465420e+04   \n",
       "55439            0.068089           0.067499     37.620400  1.465420e+04   \n",
       "\n",
       "       Energy_intensity_per_capita  Energy_intensity_by_GDP  CO2_emission  \n",
       "0                        68.145921                10.547000   4946.627130  \n",
       "1                        68.145921                10.547000   1409.790188  \n",
       "2                        68.145921                10.547000   1081.593377  \n",
       "3                        68.145921                10.547000   2455.243565  \n",
       "4                        68.145921                10.547000      0.000000  \n",
       "...                            ...                      ...           ...  \n",
       "55435                    11.508701                 4.482962      4.586869  \n",
       "55436                    11.508701                 4.482962      0.000000  \n",
       "55437                    11.508701                 4.482962      4.377890  \n",
       "55438                    11.508701                 4.482962      0.000000  \n",
       "55439                    11.508701                 4.482962      0.000000  \n",
       "\n",
       "[55440 rows x 11 columns]"
      ]
     },
     "execution_count": 4,
     "metadata": {},
     "output_type": "execute_result"
    }
   ],
   "source": [
    "# view data frame\n",
    "emissions_df"
   ]
  },
  {
   "cell_type": "markdown",
   "id": "c0eb2961",
   "metadata": {},
   "source": [
    "## Histograms"
   ]
  },
  {
   "cell_type": "code",
   "execution_count": 5,
   "id": "48f420eb",
   "metadata": {},
   "outputs": [
    {
     "data": {
      "text/html": [
       "<div>\n",
       "<style scoped>\n",
       "    .dataframe tbody tr th:only-of-type {\n",
       "        vertical-align: middle;\n",
       "    }\n",
       "\n",
       "    .dataframe tbody tr th {\n",
       "        vertical-align: top;\n",
       "    }\n",
       "\n",
       "    .dataframe thead th {\n",
       "        text-align: right;\n",
       "    }\n",
       "</style>\n",
       "<table border=\"1\" class=\"dataframe\">\n",
       "  <thead>\n",
       "    <tr style=\"text-align: right;\">\n",
       "      <th></th>\n",
       "      <th>index</th>\n",
       "      <th>Unnamed: 0</th>\n",
       "      <th>Country</th>\n",
       "      <th>Energy_type</th>\n",
       "      <th>Year</th>\n",
       "      <th>Energy_consumption</th>\n",
       "      <th>Energy_production</th>\n",
       "      <th>GDP</th>\n",
       "      <th>Population</th>\n",
       "      <th>Energy_intensity_per_capita</th>\n",
       "      <th>Energy_intensity_by_GDP</th>\n",
       "      <th>CO2_emission</th>\n",
       "    </tr>\n",
       "  </thead>\n",
       "  <tbody>\n",
       "    <tr>\n",
       "      <th>0</th>\n",
       "      <td>54060</td>\n",
       "      <td>54060</td>\n",
       "      <td>Afghanistan</td>\n",
       "      <td>all_energy_types</td>\n",
       "      <td>2019</td>\n",
       "      <td>0.122748</td>\n",
       "      <td>0.055210</td>\n",
       "      <td>79.4546</td>\n",
       "      <td>38050.900</td>\n",
       "      <td>3.225901</td>\n",
       "      <td>1.544888</td>\n",
       "      <td>9.391163</td>\n",
       "    </tr>\n",
       "    <tr>\n",
       "      <th>1</th>\n",
       "      <td>54066</td>\n",
       "      <td>54066</td>\n",
       "      <td>Albania</td>\n",
       "      <td>all_energy_types</td>\n",
       "      <td>2019</td>\n",
       "      <td>0.110748</td>\n",
       "      <td>0.089082</td>\n",
       "      <td>38.2684</td>\n",
       "      <td>2879.920</td>\n",
       "      <td>38.455319</td>\n",
       "      <td>2.893987</td>\n",
       "      <td>4.031302</td>\n",
       "    </tr>\n",
       "    <tr>\n",
       "      <th>2</th>\n",
       "      <td>54072</td>\n",
       "      <td>54072</td>\n",
       "      <td>Algeria</td>\n",
       "      <td>all_energy_types</td>\n",
       "      <td>2019</td>\n",
       "      <td>2.643503</td>\n",
       "      <td>6.429790</td>\n",
       "      <td>509.0660</td>\n",
       "      <td>43030.400</td>\n",
       "      <td>61.433374</td>\n",
       "      <td>5.192849</td>\n",
       "      <td>145.987969</td>\n",
       "    </tr>\n",
       "    <tr>\n",
       "      <th>3</th>\n",
       "      <td>54078</td>\n",
       "      <td>54078</td>\n",
       "      <td>American Samoa</td>\n",
       "      <td>all_energy_types</td>\n",
       "      <td>2019</td>\n",
       "      <td>0.004912</td>\n",
       "      <td>0.000000</td>\n",
       "      <td>NaN</td>\n",
       "      <td>55.312</td>\n",
       "      <td>88.796444</td>\n",
       "      <td>0.000000</td>\n",
       "      <td>0.355428</td>\n",
       "    </tr>\n",
       "    <tr>\n",
       "      <th>4</th>\n",
       "      <td>54084</td>\n",
       "      <td>54084</td>\n",
       "      <td>Angola</td>\n",
       "      <td>all_energy_types</td>\n",
       "      <td>2019</td>\n",
       "      <td>0.372428</td>\n",
       "      <td>3.510208</td>\n",
       "      <td>193.8260</td>\n",
       "      <td>31849.800</td>\n",
       "      <td>11.693253</td>\n",
       "      <td>1.921454</td>\n",
       "      <td>17.644577</td>\n",
       "    </tr>\n",
       "    <tr>\n",
       "      <th>...</th>\n",
       "      <td>...</td>\n",
       "      <td>...</td>\n",
       "      <td>...</td>\n",
       "      <td>...</td>\n",
       "      <td>...</td>\n",
       "      <td>...</td>\n",
       "      <td>...</td>\n",
       "      <td>...</td>\n",
       "      <td>...</td>\n",
       "      <td>...</td>\n",
       "      <td>...</td>\n",
       "      <td>...</td>\n",
       "    </tr>\n",
       "    <tr>\n",
       "      <th>225</th>\n",
       "      <td>55410</td>\n",
       "      <td>55410</td>\n",
       "      <td>Wake Island</td>\n",
       "      <td>all_energy_types</td>\n",
       "      <td>2019</td>\n",
       "      <td>0.019436</td>\n",
       "      <td>0.000000</td>\n",
       "      <td>NaN</td>\n",
       "      <td>NaN</td>\n",
       "      <td>0.000000</td>\n",
       "      <td>0.000000</td>\n",
       "      <td>1.273787</td>\n",
       "    </tr>\n",
       "    <tr>\n",
       "      <th>226</th>\n",
       "      <td>55416</td>\n",
       "      <td>55416</td>\n",
       "      <td>Western Sahara</td>\n",
       "      <td>all_energy_types</td>\n",
       "      <td>2019</td>\n",
       "      <td>0.003712</td>\n",
       "      <td>0.000000</td>\n",
       "      <td>NaN</td>\n",
       "      <td>NaN</td>\n",
       "      <td>0.000000</td>\n",
       "      <td>0.000000</td>\n",
       "      <td>0.263038</td>\n",
       "    </tr>\n",
       "    <tr>\n",
       "      <th>227</th>\n",
       "      <td>55422</td>\n",
       "      <td>55422</td>\n",
       "      <td>Yemen</td>\n",
       "      <td>all_energy_types</td>\n",
       "      <td>2019</td>\n",
       "      <td>0.159020</td>\n",
       "      <td>0.133273</td>\n",
       "      <td>53.0838</td>\n",
       "      <td>29162.200</td>\n",
       "      <td>5.452938</td>\n",
       "      <td>2.995635</td>\n",
       "      <td>8.292505</td>\n",
       "    </tr>\n",
       "    <tr>\n",
       "      <th>228</th>\n",
       "      <td>55428</td>\n",
       "      <td>55428</td>\n",
       "      <td>Zambia</td>\n",
       "      <td>all_energy_types</td>\n",
       "      <td>2019</td>\n",
       "      <td>0.207097</td>\n",
       "      <td>0.148004</td>\n",
       "      <td>247.1819</td>\n",
       "      <td>17873.850</td>\n",
       "      <td>11.586567</td>\n",
       "      <td>0.837831</td>\n",
       "      <td>7.096290</td>\n",
       "    </tr>\n",
       "    <tr>\n",
       "      <th>229</th>\n",
       "      <td>55434</td>\n",
       "      <td>55434</td>\n",
       "      <td>Zimbabwe</td>\n",
       "      <td>all_energy_types</td>\n",
       "      <td>2019</td>\n",
       "      <td>0.168651</td>\n",
       "      <td>0.143462</td>\n",
       "      <td>37.6204</td>\n",
       "      <td>14654.200</td>\n",
       "      <td>11.508701</td>\n",
       "      <td>4.482962</td>\n",
       "      <td>8.964759</td>\n",
       "    </tr>\n",
       "  </tbody>\n",
       "</table>\n",
       "<p>230 rows × 12 columns</p>\n",
       "</div>"
      ],
      "text/plain": [
       "     index  Unnamed: 0         Country       Energy_type  Year  \\\n",
       "0    54060       54060     Afghanistan  all_energy_types  2019   \n",
       "1    54066       54066         Albania  all_energy_types  2019   \n",
       "2    54072       54072         Algeria  all_energy_types  2019   \n",
       "3    54078       54078  American Samoa  all_energy_types  2019   \n",
       "4    54084       54084          Angola  all_energy_types  2019   \n",
       "..     ...         ...             ...               ...   ...   \n",
       "225  55410       55410     Wake Island  all_energy_types  2019   \n",
       "226  55416       55416  Western Sahara  all_energy_types  2019   \n",
       "227  55422       55422           Yemen  all_energy_types  2019   \n",
       "228  55428       55428          Zambia  all_energy_types  2019   \n",
       "229  55434       55434        Zimbabwe  all_energy_types  2019   \n",
       "\n",
       "     Energy_consumption  Energy_production       GDP  Population  \\\n",
       "0              0.122748           0.055210   79.4546   38050.900   \n",
       "1              0.110748           0.089082   38.2684    2879.920   \n",
       "2              2.643503           6.429790  509.0660   43030.400   \n",
       "3              0.004912           0.000000       NaN      55.312   \n",
       "4              0.372428           3.510208  193.8260   31849.800   \n",
       "..                  ...                ...       ...         ...   \n",
       "225            0.019436           0.000000       NaN         NaN   \n",
       "226            0.003712           0.000000       NaN         NaN   \n",
       "227            0.159020           0.133273   53.0838   29162.200   \n",
       "228            0.207097           0.148004  247.1819   17873.850   \n",
       "229            0.168651           0.143462   37.6204   14654.200   \n",
       "\n",
       "     Energy_intensity_per_capita  Energy_intensity_by_GDP  CO2_emission  \n",
       "0                       3.225901                 1.544888      9.391163  \n",
       "1                      38.455319                 2.893987      4.031302  \n",
       "2                      61.433374                 5.192849    145.987969  \n",
       "3                      88.796444                 0.000000      0.355428  \n",
       "4                      11.693253                 1.921454     17.644577  \n",
       "..                           ...                      ...           ...  \n",
       "225                     0.000000                 0.000000      1.273787  \n",
       "226                     0.000000                 0.000000      0.263038  \n",
       "227                     5.452938                 2.995635      8.292505  \n",
       "228                    11.586567                 0.837831      7.096290  \n",
       "229                    11.508701                 4.482962      8.964759  \n",
       "\n",
       "[230 rows x 12 columns]"
      ]
     },
     "execution_count": 5,
     "metadata": {},
     "output_type": "execute_result"
    }
   ],
   "source": [
    "# filter out total world stats\n",
    "countries_em = emissions_df[~(emissions_df[\"Country\"] == \"World\")]\n",
    "# choose Year 2020 & each country only once\n",
    "emissions20 = countries_em[(countries_em[\"Year\"]==2019) & (countries_em[\"Energy_type\"]==\"all_energy_types\")]\n",
    "emissions20 = pd.DataFrame.reset_index(emissions20)\n",
    "emissions20"
   ]
  },
  {
   "cell_type": "code",
   "execution_count": 6,
   "id": "5b7f455f",
   "metadata": {
    "scrolled": true
   },
   "outputs": [
    {
     "data": {
      "image/png": "[encoded data removed]",
      "text/plain": [
       "<Figure size 432x288 with 1 Axes>"
      ]
     },
     "metadata": {
      "needs_background": "light"
     },
     "output_type": "display_data"
    }
   ],
   "source": [
    "# histogram of GDP\n",
    "gdp = emissions20[\"GDP\"][~np.isnan(emissions20[\"GDP\"])]\n",
    "plt.hist(gdp)\n",
    "plt.title(\"GDP Histogram\")\n",
    "plt.xlabel(\"GDP (Billions $)\")\n",
    "plt.ylabel(\"Frequency\")\n",
    "plt.show()"
   ]
  },
  {
   "cell_type": "code",
   "execution_count": 7,
   "id": "82bb4714",
   "metadata": {
    "scrolled": true
   },
   "outputs": [
    {
     "data": {
      "image/png": "[encoded data removed]",
      "text/plain": [
       "<Figure size 432x288 with 1 Axes>"
      ]
     },
     "metadata": {
      "needs_background": "light"
     },
     "output_type": "display_data"
    }
   ],
   "source": [
    "# Population histogram\n",
    "pop = emissions20[\"Population\"][~np.isnan(emissions20[\"Population\"])]\n",
    "plt.hist(pop)\n",
    "plt.title(\"Population Histogram\")\n",
    "plt.xlabel(\"Population (Millions)\")\n",
    "plt.ylabel(\"Frequency\")\n",
    "plt.ticklabel_format(style='plain')\n",
    "plt.xticks(rotation=45)\n",
    "plt.show()"
   ]
  },
  {
   "cell_type": "code",
   "execution_count": 8,
   "id": "f22e726c",
   "metadata": {
    "scrolled": false
   },
   "outputs": [
    {
     "data": {
      "image/png": "[encoded data removed]",
      "text/plain": [
       "<Figure size 432x288 with 1 Axes>"
      ]
     },
     "metadata": {
      "needs_background": "light"
     },
     "output_type": "display_data"
    }
   ],
   "source": [
    "# emissions histogram\n",
    "co2 = emissions20[\"CO2_emission\"][~np.isnan(emissions20[\"CO2_emission\"])]\n",
    "plt.hist(co2, bins = 10)\n",
    "plt.title(\"CO2 Emissions Histogram\")\n",
    "plt.xlabel(\"C02 Emissions (Million Metric Tonnes)\")\n",
    "plt.ylabel(\"Frequency\")\n",
    "plt.show()"
   ]
  },
  {
   "cell_type": "code",
   "execution_count": 9,
   "id": "8b2112ac",
   "metadata": {
    "scrolled": false
   },
   "outputs": [
    {
     "data": {
      "image/png": "[encoded data removed]",
      "text/plain": [
       "<Figure size 432x288 with 1 Axes>"
      ]
     },
     "metadata": {
      "needs_background": "light"
     },
     "output_type": "display_data"
    }
   ],
   "source": [
    "# energy consumption histogram\n",
    "energy_cons = emissions20[\"Energy_consumption\"][~np.isnan(emissions20[\"Energy_consumption\"])]\n",
    "plt.hist(energy_cons, bins = 10)\n",
    "plt.title(\"Energy Consumption Histogram\")\n",
    "plt.xlabel(\"Energy Consumption (quad BTU)\")\n",
    "plt.ylabel(\"Frequency\")\n",
    "plt.show()"
   ]
  },
  {
   "cell_type": "code",
   "execution_count": 10,
   "id": "db04c920",
   "metadata": {
    "scrolled": true
   },
   "outputs": [
    {
     "data": {
      "image/png": "[encoded data removed]",
      "text/plain": [
       "<Figure size 432x288 with 1 Axes>"
      ]
     },
     "metadata": {
      "needs_background": "light"
     },
     "output_type": "display_data"
    }
   ],
   "source": [
    "# energy production histogram\n",
    "energy_prod = emissions20[\"Energy_production\"][~np.isnan(emissions20[\"Energy_production\"])]\n",
    "plt.hist(energy_prod, bins = 10)\n",
    "plt.title(\"Energy Production Histogram\")\n",
    "plt.xlabel(\"Energy Production (quad BTU)\")\n",
    "plt.ylabel(\"Frequency\")\n",
    "plt.show()"
   ]
  },
  {
   "cell_type": "markdown",
   "id": "21cc84b9",
   "metadata": {},
   "source": [
    "There are huge inequalities between countries when it comes to population, GDP, energy consumptions, and co2 emissions. None are normally distributed. "
   ]
  },
  {
   "cell_type": "markdown",
   "id": "3d0d1dd6",
   "metadata": {},
   "source": [
    "## Other Descriptive Characteristics"
   ]
  },
  {
   "cell_type": "code",
   "execution_count": 11,
   "id": "4b213a58",
   "metadata": {},
   "outputs": [],
   "source": [
    "# sort variables in descending order in order to view tails properly\n",
    "pop_sorted = emissions20.sort_values(by=[\"Population\"], ascending=False).reset_index(drop=True)\n",
    "co2_sorted = emissions20.sort_values(by=[\"CO2_emission\"], ascending=False).reset_index(drop=True)\n",
    "gdp_sorted = emissions20.sort_values(by=[\"GDP\"], ascending=False).reset_index(drop=True)\n",
    "cons_sorted = emissions20.sort_values(by=[\"Energy_production\"], ascending=False).reset_index(drop=True)\n",
    "prod_sorted = emissions20.sort_values(by=[\"Energy_consumption\"], ascending=False).reset_index(drop=True)\n"
   ]
  },
  {
   "cell_type": "code",
   "execution_count": 12,
   "id": "e419f542",
   "metadata": {},
   "outputs": [
    {
     "name": "stdout",
     "output_type": "stream",
     "text": [
      "GDP\n",
      "Mean: 638.4512352949998\n",
      "Spread: 5468357.318554283\n",
      "Tails:\n",
      "195    1.063890\n",
      "196    0.802973\n",
      "197    0.761102\n",
      "198    0.574064\n",
      "199    0.234263\n",
      "Name: GDP, dtype: float640    23128.34\n",
      "1    19925.43\n",
      "2     9310.29\n",
      "3     5359.05\n",
      "4     4182.05\n",
      "Name: GDP, dtype: float64\n"
     ]
    }
   ],
   "source": [
    "# mean, spread, tails of GDP\n",
    "print(f\"GDP\\nMean: {gdp.mean()}\\nSpread: {gdp.var()}\\nTails:\\n{gdp_sorted.GDP.dropna().tail()}{gdp_sorted.GDP.dropna().head()}\")"
   ]
  },
  {
   "cell_type": "code",
   "execution_count": 13,
   "id": "712f68d1",
   "metadata": {
    "scrolled": true
   },
   "outputs": [
    {
     "name": "stdout",
     "output_type": "stream",
     "text": [
      "Population\n",
      "Mean: 38003.108688817716\n",
      "Spread: 20696274720.739307\n",
      "Tails:\n",
      "198    57.2160\n",
      "199    56.6932\n",
      "200    55.3120\n",
      "201    52.7944\n",
      "202    30.0137\n",
      "Name: Population, dtype: float640    1434512.0\n",
      "1    1368140.0\n",
      "2     330043.8\n",
      "3     270984.0\n",
      "4     216564.0\n",
      "Name: Population, dtype: float64\n"
     ]
    }
   ],
   "source": [
    "# mean, spread, tails of Population\n",
    "print(f\"Population\\nMean: {pop.mean()}\\nSpread: {pop.var()}\\nTails:\\n{pop_sorted.Population.dropna().tail()}{pop_sorted.Population.dropna().head()}\")"
   ]
  },
  {
   "cell_type": "code",
   "execution_count": 14,
   "id": "e2419ff1",
   "metadata": {
    "scrolled": true
   },
   "outputs": [
    {
     "name": "stdout",
     "output_type": "stream",
     "text": [
      "CO2 Emissions\n",
      "Mean: 159.57369281477574\n",
      "Spread: 673858.0891964487\n",
      "Tails:\n",
      "218    0.009821\n",
      "219    0.007518\n",
      "220    0.000000\n",
      "221    0.000000\n",
      "222    0.000000\n",
      "Name: CO2_emission, dtype: float640    10608.600386\n",
      "1     5277.192754\n",
      "2     2308.332020\n",
      "3     1798.242239\n",
      "4     1140.949688\n",
      "Name: CO2_emission, dtype: float64\n"
     ]
    }
   ],
   "source": [
    "# mean, spread, tails of Co2\n",
    "print(f\"CO2 Emissions\\nMean: {co2.mean()}\\nSpread: {co2.var()}\\nTails:\\n{co2_sorted.CO2_emission.dropna().tail()}{co2_sorted.CO2_emission.dropna().head()}\")"
   ]
  },
  {
   "cell_type": "code",
   "execution_count": 15,
   "id": "66340bf9",
   "metadata": {
    "scrolled": true
   },
   "outputs": [
    {
     "name": "stdout",
     "output_type": "stream",
     "text": [
      "Energy Consumption\n",
      "Mean: 2.6952488338739244\n",
      "Spread: 160.75077129753026\n",
      "Tails:\n",
      "218    0.000000\n",
      "219    0.003359\n",
      "220    0.191503\n",
      "221    0.002387\n",
      "222    0.004243\n",
      "Name: Energy_consumption, dtype: float640    151.608886\n",
      "1    100.434068\n",
      "2     33.246533\n",
      "3     10.161015\n",
      "4     14.977905\n",
      "Name: Energy_consumption, dtype: float64\n"
     ]
    }
   ],
   "source": [
    "# mean, spread, tails of energy consumption\n",
    "print(f\"Energy Consumption\\nMean: {energy_cons.mean()}\\nSpread: {energy_cons.var()}\\nTails:\\n{cons_sorted.Energy_consumption.dropna().tail()}{cons_sorted.Energy_consumption.dropna().head()}\")"
   ]
  },
  {
   "cell_type": "code",
   "execution_count": 16,
   "id": "0297fa56",
   "metadata": {
    "scrolled": true
   },
   "outputs": [
    {
     "name": "stdout",
     "output_type": "stream",
     "text": [
      "Energy Production\n",
      "Mean: 2.7421926845185047\n",
      "Spread: 142.73142468667712\n",
      "Tails:\n",
      "218    0.0\n",
      "219    0.0\n",
      "220    0.0\n",
      "221    0.0\n",
      "222    0.0\n",
      "Name: Energy_production, dtype: float640    123.591360\n",
      "1    101.400918\n",
      "2     64.277996\n",
      "3     17.785372\n",
      "4      2.770441\n",
      "Name: Energy_production, dtype: float64\n"
     ]
    }
   ],
   "source": [
    "# mean, spread, tails of energy production\n",
    "print(f\"Energy Production\\nMean: {energy_prod.mean()}\\nSpread: {energy_prod.var()}\\nTails:\\n{prod_sorted.Energy_production.dropna().tail()}{prod_sorted.Energy_production.dropna().head()}\")"
   ]
  },
  {
   "cell_type": "markdown",
   "id": "4184c737",
   "metadata": {},
   "source": [
    "## PMF's"
   ]
  },
  {
   "cell_type": "code",
   "execution_count": 17,
   "id": "7d5c2a7c",
   "metadata": {},
   "outputs": [],
   "source": [
    "def group_emissions(series):\n",
    "    \"\"\"Groups emissions into groups of 10,000 in order to aid visualization\n",
    "    of probability mass function\"\"\"\n",
    "    temp = []\n",
    "    for val in series:\n",
    "        if(val > 10000):\n",
    "            temp.append(11000)\n",
    "        elif(val > 9000):\n",
    "            temp.append(10000)\n",
    "        elif(val > 8000):\n",
    "            temp.append(9000)\n",
    "        elif(val > 7000):\n",
    "            temp.append(8000)\n",
    "        elif(val > 6000):\n",
    "            temp.append(7000)\n",
    "        elif(val > 5000):\n",
    "            temp.append(6000)\n",
    "        elif(val > 4000):\n",
    "            temp.append(5000)\n",
    "        elif(val > 3000):\n",
    "            temp.append(4000)\n",
    "        elif(val > 2000):\n",
    "            temp.append(3000)\n",
    "        elif(val> 1000):\n",
    "            temp.append(2000)\n",
    "        else:\n",
    "            temp.append(1000)\n",
    "    groups = pd.Series(temp)\n",
    "    return groups"
   ]
  },
  {
   "cell_type": "code",
   "execution_count": 18,
   "id": "1ca72f7d",
   "metadata": {},
   "outputs": [],
   "source": [
    "# comparing co2 emissions of most populous countries vs all others\n",
    "pop_high = pop_sorted[0:10]\n",
    "pop_other = pop_sorted.drop(pop_sorted.index[0:10]).reset_index(drop=True)"
   ]
  },
  {
   "cell_type": "code",
   "execution_count": 19,
   "id": "4a2d4fff",
   "metadata": {
    "scrolled": true
   },
   "outputs": [],
   "source": [
    "# calculates pmf of CO2 emission filtered by 10 most populous countries vs others\n",
    "pop_high_em = group_emissions(pop_high[\"CO2_emission\"])\n",
    "pop_other_em = group_emissions(pop_other.CO2_emission)\n",
    "pop_other_pmf = ed.Pmf.from_seq(pop_other_em)\n",
    "pop_high_pmf = ed.Pmf.from_seq(pop_high_em)"
   ]
  },
  {
   "cell_type": "code",
   "execution_count": 20,
   "id": "54da1476",
   "metadata": {},
   "outputs": [
    {
     "data": {
      "image/png": "[encoded data removed]",
      "text/plain": [
       "<Figure size 432x288 with 1 Axes>"
      ]
     },
     "metadata": {
      "needs_background": "light"
     },
     "output_type": "display_data"
    }
   ],
   "source": [
    "# histogram of 2 pmfs\n",
    "pop_high_pmf.plot(label=\"10 Highest Population Countries\")\n",
    "pop_other_pmf.plot(label=\"All Other Countries\")\n",
    "plt.xlabel(\"CO2 Emissions (Million Metric Tonnes)\")\n",
    "plt.ylabel(\"Probability\")\n",
    "plt.legend(loc=\"upper right\")\n",
    "plt.title(\"PMF of High Population Countries vs Others\")\n",
    "plt.show()"
   ]
  },
  {
   "cell_type": "markdown",
   "id": "8abef840",
   "metadata": {},
   "source": [
    "## CDF"
   ]
  },
  {
   "cell_type": "code",
   "execution_count": 21,
   "id": "8b0edde5",
   "metadata": {
    "scrolled": true
   },
   "outputs": [
    {
     "data": {
      "image/png": "[encoded data removed]",
      "text/plain": [
       "<Figure size 432x288 with 1 Axes>"
      ]
     },
     "metadata": {
      "needs_background": "light"
     },
     "output_type": "display_data"
    }
   ],
   "source": [
    "# cdf of co2 emissions\n",
    "emissions_cdf = ed.Cdf.from_seq(emissions20.CO2_emission.dropna())\n",
    "emissions_cdf.plot()\n",
    "plt.xlabel(\"CO2 Emissions (Million Metric Tonnes)\")\n",
    "plt.ylabel(\"CDF\")\n",
    "plt.title(\"CDF of CO2 Emissions\")\n",
    "plt.show()"
   ]
  },
  {
   "cell_type": "markdown",
   "id": "113810b7",
   "metadata": {},
   "source": [
    "From the Cdf above, you can more easily tell that 99% of countries' emissions are below 2500 mmt yearly. Given that we are investigating the highest emitters of CO2, it may be helpful moving forward to focus on that top 1% of emitters and look at correlations between their population. Otherwise as can be seen in most of the preceding analysis, our visualizations will be hard to interpret. "
   ]
  },
  {
   "cell_type": "markdown",
   "id": "9ac36548",
   "metadata": {},
   "source": [
    "## Pareto Distribution"
   ]
  },
  {
   "cell_type": "code",
   "execution_count": 69,
   "id": "6a434db8",
   "metadata": {
    "scrolled": true
   },
   "outputs": [
    {
     "data": {
      "image/png": "[encoded data removed]",
      "text/plain": [
       "<Figure size 432x288 with 1 Axes>"
      ]
     },
     "metadata": {
      "needs_background": "light"
     },
     "output_type": "display_data"
    }
   ],
   "source": [
    "# plot pareto distribution\n",
    "xmin = 1\n",
    "alpha = .4\n",
    "fig, ax = plt.subplots(1, 1)\n",
    "samples = np.linspace(start=xmin, stop=11000, num=50)\n",
    "output = np.array([pareto.cdf(x=samples, b=alpha, scale=xmin)])\n",
    "plt.plot(samples, output.T, label='alpha {0}' .format(alpha))\n",
    "plt.ylabel(\"CDF\")\n",
    "plt.title(\"Pareto CDF\")\n",
    "plt.show()"
   ]
  },
  {
   "cell_type": "markdown",
   "id": "9a4686c8",
   "metadata": {},
   "source": [
    "## Scatterplots & Correlation Analysis"
   ]
  },
  {
   "cell_type": "code",
   "execution_count": 23,
   "id": "a6fb2c7d",
   "metadata": {
    "scrolled": true
   },
   "outputs": [
    {
     "data": {
      "text/plain": [
       "<matplotlib.collections.PathCollection at 0x1bbc0f925b0>"
      ]
     },
     "execution_count": 23,
     "metadata": {},
     "output_type": "execute_result"
    },
    {
     "data": {
      "image/png": "[encoded data removed]",
      "text/plain": [
       "<Figure size 432x288 with 2 Axes>"
      ]
     },
     "metadata": {
      "needs_background": "light"
     },
     "output_type": "display_data"
    }
   ],
   "source": [
    "# scatterplot of emissions vs pop and emissions vs GDP\n",
    "plt.subplot(1, 2, 1)\n",
    "plt.scatter(emissions20.CO2_emission, emissions20.Population, alpha=.2)\n",
    "plt.subplot(1, 2, 2)\n",
    "plt.scatter(emissions20.CO2_emission, emissions20.GDP, alpha = .2)"
   ]
  },
  {
   "cell_type": "markdown",
   "id": "80d35d3f",
   "metadata": {},
   "source": [
    "The relationship in both these scatterplots is linear, so pearson's correlation should be sufficient."
   ]
  },
  {
   "cell_type": "code",
   "execution_count": 24,
   "id": "662e7373",
   "metadata": {},
   "outputs": [
    {
     "data": {
      "text/plain": [
       "99489804.41530359"
      ]
     },
     "execution_count": 24,
     "metadata": {},
     "output_type": "execute_result"
    }
   ],
   "source": [
    "# covariance b/w emissions and population\n",
    "emissions20.CO2_emission.cov(emissions20.Population)"
   ]
  },
  {
   "cell_type": "code",
   "execution_count": 25,
   "id": "1dff911c",
   "metadata": {
    "scrolled": true
   },
   "outputs": [
    {
     "data": {
      "text/plain": [
       "0.8050974923318549"
      ]
     },
     "execution_count": 25,
     "metadata": {},
     "output_type": "execute_result"
    }
   ],
   "source": [
    "# pearson's (it's a linear relationship) correlation b/w emissions and population\n",
    "emissions20.CO2_emission.corr(emissions20.Population)"
   ]
  },
  {
   "cell_type": "code",
   "execution_count": 26,
   "id": "76203f68",
   "metadata": {},
   "outputs": [
    {
     "data": {
      "text/plain": [
       "1927049.7113552284"
      ]
     },
     "execution_count": 26,
     "metadata": {},
     "output_type": "execute_result"
    }
   ],
   "source": [
    "# covariance b/w emissions and gdp\n",
    "emissions20.CO2_emission.cov(emissions20.GDP)"
   ]
  },
  {
   "cell_type": "code",
   "execution_count": 27,
   "id": "ddcad341",
   "metadata": {},
   "outputs": [
    {
     "data": {
      "text/plain": [
       "0.9525030151594196"
      ]
     },
     "execution_count": 27,
     "metadata": {},
     "output_type": "execute_result"
    }
   ],
   "source": [
    "# correlation b/w emissions and gdp\n",
    "emissions20.CO2_emission.corr(emissions20.GDP)"
   ]
  },
  {
   "cell_type": "code",
   "execution_count": 28,
   "id": "c115a85e",
   "metadata": {},
   "outputs": [
    {
     "data": {
      "text/plain": [
       "269790906.7244527"
      ]
     },
     "execution_count": 28,
     "metadata": {},
     "output_type": "execute_result"
    }
   ],
   "source": [
    "# covariance b/w gdp and pop\n",
    "emissions20.Population.cov(emissions20.GDP)"
   ]
  },
  {
   "cell_type": "code",
   "execution_count": 29,
   "id": "aea46e41",
   "metadata": {},
   "outputs": [
    {
     "data": {
      "text/plain": [
       "0.7963996293431072"
      ]
     },
     "execution_count": 29,
     "metadata": {},
     "output_type": "execute_result"
    }
   ],
   "source": [
    "# correlation b/w gdp and pop\n",
    "emissions20.Population.corr(emissions20.GDP)"
   ]
  },
  {
   "cell_type": "code",
   "execution_count": 72,
   "id": "ecb2bd43",
   "metadata": {
    "scrolled": true
   },
   "outputs": [
    {
     "data": {
      "text/plain": [
       "0.9219531974701016"
      ]
     },
     "execution_count": 72,
     "metadata": {},
     "output_type": "execute_result"
    }
   ],
   "source": [
    "# correlation b/w energy production and emissions\n",
    "emissions20.Energy_production.corr(emissions20.CO2_emission)"
   ]
  },
  {
   "cell_type": "code",
   "execution_count": 74,
   "id": "ca63beb6",
   "metadata": {},
   "outputs": [
    {
     "data": {
      "text/plain": [
       "0.990763007057575"
      ]
     },
     "execution_count": 74,
     "metadata": {},
     "output_type": "execute_result"
    }
   ],
   "source": [
    "# correlation b/w energy consumption and emissions\n",
    "emissions20.Energy_consumption.corr(emissions20.CO2_emission)"
   ]
  },
  {
   "cell_type": "code",
   "execution_count": 75,
   "id": "ef92e535",
   "metadata": {},
   "outputs": [
    {
     "data": {
      "text/plain": [
       "0.7672195929151452"
      ]
     },
     "execution_count": 75,
     "metadata": {},
     "output_type": "execute_result"
    }
   ],
   "source": [
    "# correlation b/w energy consumption and population\n",
    "emissions20.Energy_consumption.corr(emissions20.Population)"
   ]
  },
  {
   "cell_type": "code",
   "execution_count": 76,
   "id": "aef7dc17",
   "metadata": {},
   "outputs": [
    {
     "data": {
      "text/plain": [
       "0.6624447507271003"
      ]
     },
     "execution_count": 76,
     "metadata": {},
     "output_type": "execute_result"
    }
   ],
   "source": [
    "# correlation b/w energy production and population\n",
    "emissions20.Energy_production.corr(emissions20.Population)"
   ]
  },
  {
   "cell_type": "markdown",
   "id": "54bb249d",
   "metadata": {},
   "source": [
    "The above analysis shows a positive correlation b/w emissions and populations. However, this does not therefore mean that a higher population is the cause of higher emissions. It merely tells us that there is a positive relationship such that when there is a higher population there are higher emissions. It is possible there is a third variable that influences bother emissions and population that is the true driver of change. For instance, GDP has an incredibly high correlation of .95 with emissions. \n",
    "\n",
    "In order to show causation, we will need to do further testing."
   ]
  },
  {
   "cell_type": "markdown",
   "id": "95674169",
   "metadata": {},
   "source": [
    "## Hypothesis Testing"
   ]
  },
  {
   "cell_type": "code",
   "execution_count": 51,
   "id": "68175102",
   "metadata": {},
   "outputs": [],
   "source": [
    "class CorrelationPermute(HypothesisTest):\n",
    "    def TestStatistic(self, data):\n",
    "        \"\"\"Correlation Test Statistic\"\"\"\n",
    "        xs, ys = data\n",
    "        test_stat = abs(thinkstats2.Corr(xs, ys))\n",
    "        return test_stat\n",
    "    def RunModel(self):\n",
    "        \"\"\"Runs test\"\"\"\n",
    "        xs, ys = self.data\n",
    "        xs = np.random.permutation(xs)\n",
    "        return xs, ys"
   ]
  },
  {
   "cell_type": "code",
   "execution_count": 54,
   "id": "7b10ab62",
   "metadata": {},
   "outputs": [],
   "source": [
    "# correlation hypothesis test using permutated data to find pvalue\n",
    "data = emissions20.CO2_emission, emissions20.Population\n",
    "ht = CorrelationPermute(data)\n",
    "pvalue = ht.PValue()"
   ]
  },
  {
   "cell_type": "code",
   "execution_count": 57,
   "id": "5b97628e",
   "metadata": {},
   "outputs": [
    {
     "data": {
      "text/plain": [
       "0.0"
      ]
     },
     "execution_count": 57,
     "metadata": {},
     "output_type": "execute_result"
    }
   ],
   "source": [
    "pvalue"
   ]
  },
  {
   "cell_type": "code",
   "execution_count": 81,
   "id": "799488f0",
   "metadata": {},
   "outputs": [
    {
     "data": {
      "text/plain": [
       "float"
      ]
     },
     "execution_count": 81,
     "metadata": {},
     "output_type": "execute_result"
    }
   ],
   "source": []
  },
  {
   "cell_type": "markdown",
   "id": "6b38dc70",
   "metadata": {},
   "source": [
    "The Pvalue is 0 meaning the effect is unlikely to occur by chance. "
   ]
  },
  {
   "cell_type": "markdown",
   "id": "b32fc1c2",
   "metadata": {},
   "source": [
    "## Regression"
   ]
  },
  {
   "cell_type": "code",
   "execution_count": 61,
   "id": "1f66c503",
   "metadata": {
    "scrolled": true
   },
   "outputs": [
    {
     "data": {
      "text/html": [
       "<table class=\"simpletable\">\n",
       "<caption>OLS Regression Results</caption>\n",
       "<tr>\n",
       "  <th>Dep. Variable:</th>      <td>CO2_emission</td>   <th>  R-squared:         </th> <td>   0.648</td>\n",
       "</tr>\n",
       "<tr>\n",
       "  <th>Model:</th>                   <td>OLS</td>       <th>  Adj. R-squared:    </th> <td>   0.646</td>\n",
       "</tr>\n",
       "<tr>\n",
       "  <th>Method:</th>             <td>Least Squares</td>  <th>  F-statistic:       </th> <td>   370.3</td>\n",
       "</tr>\n",
       "<tr>\n",
       "  <th>Date:</th>             <td>Fri, 03 Jun 2022</td> <th>  Prob (F-statistic):</th> <td>1.77e-47</td>\n",
       "</tr>\n",
       "<tr>\n",
       "  <th>Time:</th>                 <td>21:48:36</td>     <th>  Log-Likelihood:    </th> <td> -1552.9</td>\n",
       "</tr>\n",
       "<tr>\n",
       "  <th>No. Observations:</th>      <td>   203</td>      <th>  AIC:               </th> <td>   3110.</td>\n",
       "</tr>\n",
       "<tr>\n",
       "  <th>Df Residuals:</th>          <td>   201</td>      <th>  BIC:               </th> <td>   3116.</td>\n",
       "</tr>\n",
       "<tr>\n",
       "  <th>Df Model:</th>              <td>     1</td>      <th>                     </th>     <td> </td>   \n",
       "</tr>\n",
       "<tr>\n",
       "  <th>Covariance Type:</th>      <td>nonrobust</td>    <th>                     </th>     <td> </td>   \n",
       "</tr>\n",
       "</table>\n",
       "<table class=\"simpletable\">\n",
       "<tr>\n",
       "       <td></td>         <th>coef</th>     <th>std err</th>      <th>t</th>      <th>P>|t|</th>  <th>[0.025</th>    <th>0.975]</th>  \n",
       "</tr>\n",
       "<tr>\n",
       "  <th>Intercept</th>  <td>   -7.5155</td> <td>   37.084</td> <td>   -0.203</td> <td> 0.840</td> <td>  -80.640</td> <td>   65.609</td>\n",
       "</tr>\n",
       "<tr>\n",
       "  <th>Population</th> <td>    0.0048</td> <td>    0.000</td> <td>   19.244</td> <td> 0.000</td> <td>    0.004</td> <td>    0.005</td>\n",
       "</tr>\n",
       "</table>\n",
       "<table class=\"simpletable\">\n",
       "<tr>\n",
       "  <th>Omnibus:</th>       <td>114.681</td> <th>  Durbin-Watson:     </th> <td>   1.892</td> \n",
       "</tr>\n",
       "<tr>\n",
       "  <th>Prob(Omnibus):</th> <td> 0.000</td>  <th>  Jarque-Bera (JB):  </th> <td>20795.117</td>\n",
       "</tr>\n",
       "<tr>\n",
       "  <th>Skew:</th>          <td> 0.903</td>  <th>  Prob(JB):          </th> <td>    0.00</td> \n",
       "</tr>\n",
       "<tr>\n",
       "  <th>Kurtosis:</th>      <td>52.551</td>  <th>  Cond. No.          </th> <td>1.54e+05</td> \n",
       "</tr>\n",
       "</table><br/><br/>Notes:<br/>[1] Standard Errors assume that the covariance matrix of the errors is correctly specified.<br/>[2] The condition number is large, 1.54e+05. This might indicate that there are<br/>strong multicollinearity or other numerical problems."
      ],
      "text/plain": [
       "<class 'statsmodels.iolib.summary.Summary'>\n",
       "\"\"\"\n",
       "                            OLS Regression Results                            \n",
       "==============================================================================\n",
       "Dep. Variable:           CO2_emission   R-squared:                       0.648\n",
       "Model:                            OLS   Adj. R-squared:                  0.646\n",
       "Method:                 Least Squares   F-statistic:                     370.3\n",
       "Date:                Fri, 03 Jun 2022   Prob (F-statistic):           1.77e-47\n",
       "Time:                        21:48:36   Log-Likelihood:                -1552.9\n",
       "No. Observations:                 203   AIC:                             3110.\n",
       "Df Residuals:                     201   BIC:                             3116.\n",
       "Df Model:                           1                                         \n",
       "Covariance Type:            nonrobust                                         \n",
       "==============================================================================\n",
       "                 coef    std err          t      P>|t|      [0.025      0.975]\n",
       "------------------------------------------------------------------------------\n",
       "Intercept     -7.5155     37.084     -0.203      0.840     -80.640      65.609\n",
       "Population     0.0048      0.000     19.244      0.000       0.004       0.005\n",
       "==============================================================================\n",
       "Omnibus:                      114.681   Durbin-Watson:                   1.892\n",
       "Prob(Omnibus):                  0.000   Jarque-Bera (JB):            20795.117\n",
       "Skew:                           0.903   Prob(JB):                         0.00\n",
       "Kurtosis:                      52.551   Cond. No.                     1.54e+05\n",
       "==============================================================================\n",
       "\n",
       "Notes:\n",
       "[1] Standard Errors assume that the covariance matrix of the errors is correctly specified.\n",
       "[2] The condition number is large, 1.54e+05. This might indicate that there are\n",
       "strong multicollinearity or other numerical problems.\n",
       "\"\"\""
      ]
     },
     "execution_count": 61,
     "metadata": {},
     "output_type": "execute_result"
    }
   ],
   "source": [
    "# regression analysis\n",
    "# predictor: population, outcome: CO2 Emissions\n",
    "formula = 'CO2_emission ~ Population'\n",
    "model = smf.ols(formula, data = emissions20)\n",
    "results = model.fit()\n",
    "results.summary()"
   ]
  },
  {
   "cell_type": "code",
   "execution_count": 70,
   "id": "d2ef9a30",
   "metadata": {
    "scrolled": true
   },
   "outputs": [
    {
     "data": {
      "text/html": [
       "<table class=\"simpletable\">\n",
       "<caption>OLS Regression Results</caption>\n",
       "<tr>\n",
       "  <th>Dep. Variable:</th>      <td>CO2_emission</td>   <th>  R-squared:         </th> <td>   0.907</td> \n",
       "</tr>\n",
       "<tr>\n",
       "  <th>Model:</th>                   <td>OLS</td>       <th>  Adj. R-squared:    </th> <td>   0.907</td> \n",
       "</tr>\n",
       "<tr>\n",
       "  <th>Method:</th>             <td>Least Squares</td>  <th>  F-statistic:       </th> <td>   1937.</td> \n",
       "</tr>\n",
       "<tr>\n",
       "  <th>Date:</th>             <td>Fri, 03 Jun 2022</td> <th>  Prob (F-statistic):</th> <td>3.41e-104</td>\n",
       "</tr>\n",
       "<tr>\n",
       "  <th>Time:</th>                 <td>22:11:48</td>     <th>  Log-Likelihood:    </th> <td> -1398.1</td> \n",
       "</tr>\n",
       "<tr>\n",
       "  <th>No. Observations:</th>      <td>   200</td>      <th>  AIC:               </th> <td>   2800.</td> \n",
       "</tr>\n",
       "<tr>\n",
       "  <th>Df Residuals:</th>          <td>   198</td>      <th>  BIC:               </th> <td>   2807.</td> \n",
       "</tr>\n",
       "<tr>\n",
       "  <th>Df Model:</th>              <td>     1</td>      <th>                     </th>     <td> </td>    \n",
       "</tr>\n",
       "<tr>\n",
       "  <th>Covariance Type:</th>      <td>nonrobust</td>    <th>                     </th>     <td> </td>    \n",
       "</tr>\n",
       "</table>\n",
       "<table class=\"simpletable\">\n",
       "<tr>\n",
       "      <td></td>         <th>coef</th>     <th>std err</th>      <th>t</th>      <th>P>|t|</th>  <th>[0.025</th>    <th>0.975]</th>  \n",
       "</tr>\n",
       "<tr>\n",
       "  <th>Intercept</th> <td>  -47.2030</td> <td>   19.364</td> <td>   -2.438</td> <td> 0.016</td> <td>  -85.389</td> <td>   -9.017</td>\n",
       "</tr>\n",
       "<tr>\n",
       "  <th>GDP</th>       <td>    0.3524</td> <td>    0.008</td> <td>   44.012</td> <td> 0.000</td> <td>    0.337</td> <td>    0.368</td>\n",
       "</tr>\n",
       "</table>\n",
       "<table class=\"simpletable\">\n",
       "<tr>\n",
       "  <th>Omnibus:</th>       <td>170.315</td> <th>  Durbin-Watson:     </th> <td>   1.897</td> \n",
       "</tr>\n",
       "<tr>\n",
       "  <th>Prob(Omnibus):</th> <td> 0.000</td>  <th>  Jarque-Bera (JB):  </th> <td>20107.534</td>\n",
       "</tr>\n",
       "<tr>\n",
       "  <th>Skew:</th>          <td> 2.358</td>  <th>  Prob(JB):          </th> <td>    0.00</td> \n",
       "</tr>\n",
       "<tr>\n",
       "  <th>Kurtosis:</th>      <td>51.894</td>  <th>  Cond. No.          </th> <td>2.51e+03</td> \n",
       "</tr>\n",
       "</table><br/><br/>Notes:<br/>[1] Standard Errors assume that the covariance matrix of the errors is correctly specified.<br/>[2] The condition number is large, 2.51e+03. This might indicate that there are<br/>strong multicollinearity or other numerical problems."
      ],
      "text/plain": [
       "<class 'statsmodels.iolib.summary.Summary'>\n",
       "\"\"\"\n",
       "                            OLS Regression Results                            \n",
       "==============================================================================\n",
       "Dep. Variable:           CO2_emission   R-squared:                       0.907\n",
       "Model:                            OLS   Adj. R-squared:                  0.907\n",
       "Method:                 Least Squares   F-statistic:                     1937.\n",
       "Date:                Fri, 03 Jun 2022   Prob (F-statistic):          3.41e-104\n",
       "Time:                        22:11:48   Log-Likelihood:                -1398.1\n",
       "No. Observations:                 200   AIC:                             2800.\n",
       "Df Residuals:                     198   BIC:                             2807.\n",
       "Df Model:                           1                                         \n",
       "Covariance Type:            nonrobust                                         \n",
       "==============================================================================\n",
       "                 coef    std err          t      P>|t|      [0.025      0.975]\n",
       "------------------------------------------------------------------------------\n",
       "Intercept    -47.2030     19.364     -2.438      0.016     -85.389      -9.017\n",
       "GDP            0.3524      0.008     44.012      0.000       0.337       0.368\n",
       "==============================================================================\n",
       "Omnibus:                      170.315   Durbin-Watson:                   1.897\n",
       "Prob(Omnibus):                  0.000   Jarque-Bera (JB):            20107.534\n",
       "Skew:                           2.358   Prob(JB):                         0.00\n",
       "Kurtosis:                      51.894   Cond. No.                     2.51e+03\n",
       "==============================================================================\n",
       "\n",
       "Notes:\n",
       "[1] Standard Errors assume that the covariance matrix of the errors is correctly specified.\n",
       "[2] The condition number is large, 2.51e+03. This might indicate that there are\n",
       "strong multicollinearity or other numerical problems.\n",
       "\"\"\""
      ]
     },
     "execution_count": 70,
     "metadata": {},
     "output_type": "execute_result"
    }
   ],
   "source": [
    "# regression analysis: predictor: GDP, outcome: CO2 Emissions\n",
    "formula2 = 'CO2_emission ~ GDP'\n",
    "model2 = smf.ols(formula2, data = emissions20)\n",
    "results2 = model2.fit()\n",
    "results2.summary()"
   ]
  },
  {
   "cell_type": "markdown",
   "id": "fd859295",
   "metadata": {},
   "source": [
    "The above regression analysis comparing the two as predictors shows that GDP has a much greater effect on C02 emissions than population does. Though this does not signal causation by any means, it does suggest that further research be done between understanding co2 emissions less as a per person impact and more as the product of economic production. "
   ]
  }
 ],
 "metadata": {
  "kernelspec": {
   "display_name": "Python 3 (ipykernel)",
   "language": "python",
   "name": "python3"
  },
  "language_info": {
   "codemirror_mode": {
    "name": "ipython",
    "version": 3
   },
   "file_extension": ".py",
   "mimetype": "text/x-python",
   "name": "python",
   "nbconvert_exporter": "python",
   "pygments_lexer": "ipython3",
   "version": "3.9.7"
  }
 },
 "nbformat": 4,
 "nbformat_minor": 5
}
