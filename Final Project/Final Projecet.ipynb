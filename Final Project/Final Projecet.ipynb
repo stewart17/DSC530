{
 "cells": [
  {
   "cell_type": "markdown",
   "id": "61113453",
   "metadata": {},
   "source": [
    "# Statistical Question:\n",
    "### Does a higher population lead to higher emissions"
   ]
  },
  {
   "cell_type": "code",
   "execution_count": 59,
   "id": "2e57f69b",
   "metadata": {},
   "outputs": [],
   "source": [
    "import pandas\n",
    "import scipy\n",
    "import matplotlib as plt\n",
    "import numpy as np"
   ]
  },
  {
   "cell_type": "code",
   "execution_count": 16,
   "id": "6f1e636a",
   "metadata": {},
   "outputs": [],
   "source": [
    "# places emissions into data frameji\n",
    "emissions_df = pandas.read_csv(r\"C:/Users/stewa/Downloads/CO2 Emissions/energy.csv\" )"
   ]
  },
  {
   "cell_type": "code",
   "execution_count": 17,
   "id": "229f6dad",
   "metadata": {},
   "outputs": [
    {
     "name": "stdout",
     "output_type": "stream",
     "text": [
      "Unnamed: 0\n",
      "Country\n",
      "Energy_type\n",
      "Year\n",
      "Energy_consumption\n",
      "Energy_production\n",
      "GDP\n",
      "Population\n",
      "Energy_intensity_per_capita\n",
      "Energy_intensity_by_GDP\n",
      "CO2_emission\n"
     ]
    }
   ],
   "source": [
    "# list of columns\n",
    "for col in emissions_df.columns:\n",
    "    print(col)"
   ]
  },
  {
   "cell_type": "code",
   "execution_count": 20,
   "id": "10a4ed7a",
   "metadata": {
    "scrolled": true
   },
   "outputs": [
    {
     "name": "stdout",
     "output_type": "stream",
     "text": [
      "0                 all_energy_types\n",
      "1                             coal\n",
      "2                      natural_gas\n",
      "3        petroleum_n_other_liquids\n",
      "4                          nuclear\n",
      "                   ...            \n",
      "55435                         coal\n",
      "55436                  natural_gas\n",
      "55437    petroleum_n_other_liquids\n",
      "55438                      nuclear\n",
      "55439           renewables_n_other\n",
      "Name: Energy_type, Length: 55440, dtype: object\n"
     ]
    }
   ],
   "source": [
    "energy_type = emissions_df['Energy_type']\n",
    "print(energy_type)"
   ]
  },
  {
   "cell_type": "code",
   "execution_count": 21,
   "id": "dacc8f31",
   "metadata": {},
   "outputs": [
    {
     "name": "stdout",
     "output_type": "stream",
     "text": [
      "0        1980\n",
      "1        1980\n",
      "2        1980\n",
      "3        1980\n",
      "4        1980\n",
      "         ... \n",
      "55435    2019\n",
      "55436    2019\n",
      "55437    2019\n",
      "55438    2019\n",
      "55439    2019\n",
      "Name: Year, Length: 55440, dtype: int64\n"
     ]
    }
   ],
   "source": [
    "year = emissions_df['Year']\n",
    "print(year)"
   ]
  },
  {
   "cell_type": "code",
   "execution_count": 58,
   "id": "ceb0ffda",
   "metadata": {},
   "outputs": [
    {
     "name": "stdout",
     "output_type": "stream",
     "text": [
      "0        4946.627130\n",
      "1        1409.790188\n",
      "2        1081.593377\n",
      "3        2455.243565\n",
      "4           0.000000\n",
      "            ...     \n",
      "55435       4.586869\n",
      "55436       0.000000\n",
      "55437       4.377890\n",
      "55438       0.000000\n",
      "55439       0.000000\n",
      "Name: CO2_emission, Length: 55440, dtype: float64\n",
      "0.0\n"
     ]
    }
   ],
   "source": [
    "co2_emission = emissions_df['CO2_emission']\n",
    "print(co2_emission)\n",
    "print(co2_emission.median(skipna=True))"
   ]
  },
  {
   "cell_type": "code",
   "execution_count": 57,
   "id": "176fb0d8",
   "metadata": {
    "scrolled": true
   },
   "outputs": [
    {
     "name": "stdout",
     "output_type": "stream",
     "text": [
      "Unnamed: 0                     27719.500000\n",
      "Year                            1999.500000\n",
      "Energy_consumption                 0.018381\n",
      "Energy_production                  0.000512\n",
      "GDP                               47.757100\n",
      "Population                      6157.680000\n",
      "Energy_intensity_per_capita       29.779260\n",
      "Energy_intensity_by_GDP            2.987593\n",
      "CO2_emission                       0.000000\n",
      "dtype: float64\n"
     ]
    },
    {
     "name": "stderr",
     "output_type": "stream",
     "text": [
      "C:\\Users\\stewa\\AppData\\Local\\Temp/ipykernel_26520/28545552.py:1: FutureWarning: Dropping of nuisance columns in DataFrame reductions (with 'numeric_only=None') is deprecated; in a future version this will raise TypeError.  Select only valid columns before calling the reduction.\n",
      "  print(emissions_df.median())\n"
     ]
    }
   ],
   "source": [
    "print(emissions_df.median())"
   ]
  },
  {
   "cell_type": "code",
   "execution_count": null,
   "id": "83840cdf",
   "metadata": {},
   "outputs": [],
   "source": [
    "emissions_df"
   ]
  },
  {
   "cell_type": "markdown",
   "id": "60e132ca",
   "metadata": {},
   "source": [
    "# Things I Want to Do to This Data\n",
    "1. Create new data frames with only highest emitting \n",
    "2. Sort by population\n",
    "3. Sort by GDP\n",
    "4. Sort by per capita\n",
    "5. See impact of renewables in countries that use them"
   ]
  },
  {
   "cell_type": "code",
   "execution_count": null,
   "id": "da625bfb",
   "metadata": {},
   "outputs": [],
   "source": []
  },
  {
   "cell_type": "code",
   "execution_count": null,
   "id": "5b7f455f",
   "metadata": {},
   "outputs": [],
   "source": []
  }
 ],
 "metadata": {
  "kernelspec": {
   "display_name": "Python 3 (ipykernel)",
   "language": "python",
   "name": "python3"
  },
  "language_info": {
   "codemirror_mode": {
    "name": "ipython",
    "version": 3
   },
   "file_extension": ".py",
   "mimetype": "text/x-python",
   "name": "python",
   "nbconvert_exporter": "python",
   "pygments_lexer": "ipython3",
   "version": "3.9.7"
  }
 },
 "nbformat": 4,
 "nbformat_minor": 5
}
