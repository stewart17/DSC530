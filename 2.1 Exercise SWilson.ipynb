{
 "cells": [
  {
   "cell_type": "code",
   "execution_count": 8,
   "id": "de8cef59",
   "metadata": {},
   "outputs": [
    {
     "name": "stdout",
     "output_type": "stream",
     "text": [
      "Hello World! I wonder why that is always the default coding text to start with\n"
     ]
    }
   ],
   "source": [
    "print('Hello World! I wonder why that is always the default coding text to start with')"
   ]
  },
  {
   "cell_type": "code",
   "execution_count": 9,
   "id": "24e5377f",
   "metadata": {},
   "outputs": [
    {
     "data": {
      "text/plain": [
       "5"
      ]
     },
     "execution_count": 9,
     "metadata": {},
     "output_type": "execute_result"
    }
   ],
   "source": [
    "2 + 3"
   ]
  },
  {
   "cell_type": "code",
   "execution_count": 10,
   "id": "9ff8ae11",
   "metadata": {},
   "outputs": [
    {
     "data": {
      "text/plain": [
       "-5"
      ]
     },
     "execution_count": 10,
     "metadata": {},
     "output_type": "execute_result"
    }
   ],
   "source": [
    "58 - 63"
   ]
  },
  {
   "cell_type": "code",
   "execution_count": 11,
   "id": "d84340d7",
   "metadata": {
    "scrolled": true
   },
   "outputs": [
    {
     "data": {
      "text/plain": [
       "1000"
      ]
     },
     "execution_count": 11,
     "metadata": {},
     "output_type": "execute_result"
    }
   ],
   "source": [
    "8 * 125"
   ]
  },
  {
   "cell_type": "code",
   "execution_count": 12,
   "id": "542e48ce",
   "metadata": {},
   "outputs": [
    {
     "data": {
      "text/plain": [
       "20.666666666666668"
      ]
     },
     "execution_count": 12,
     "metadata": {},
     "output_type": "execute_result"
    }
   ],
   "source": [
    "124 / 6"
   ]
  },
  {
   "cell_type": "code",
   "execution_count": 13,
   "id": "b43b6821",
   "metadata": {},
   "outputs": [],
   "source": [
    "str1 = \"Do you believe\"\n",
    "str2 = \"in life after love?\"\n",
    "str3 = str1 + str2"
   ]
  },
  {
   "cell_type": "code",
   "execution_count": 14,
   "id": "2a5600dc",
   "metadata": {},
   "outputs": [],
   "source": [
    "lst = [\"I am but a lonely soul\", 463, -.87, \"beeboo bop\"]\n",
    "lst.append(\"late to the party\")"
   ]
  },
  {
   "cell_type": "code",
   "execution_count": 15,
   "id": "1fb21b4e",
   "metadata": {},
   "outputs": [],
   "source": [
    "tpl = (-419782, \"owie\", 6.34, \"oops\")"
   ]
  }
 ],
 "metadata": {
  "kernelspec": {
   "display_name": "Python 3 (ipykernel)",
   "language": "python",
   "name": "python3"
  },
  "language_info": {
   "codemirror_mode": {
    "name": "ipython",
    "version": 3
   },
   "file_extension": ".py",
   "mimetype": "text/x-python",
   "name": "python",
   "nbconvert_exporter": "python",
   "pygments_lexer": "ipython3",
   "version": "3.9.7"
  }
 },
 "nbformat": 4,
 "nbformat_minor": 5
}
